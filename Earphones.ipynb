{
 "cells": [
  {
   "cell_type": "code",
   "execution_count": 1,
   "id": "fa9f3361-c5c8-4c46-a2c0-832ca3b25a00",
   "metadata": {},
   "outputs": [],
   "source": [
    "from selenium import webdriver\n",
    "from selenium.webdriver.common.by import By\n",
    "from selenium.webdriver.chrome.service import Service\n",
    "from selenium.webdriver.chrome.options import Options\n",
    "from webdriver_manager.chrome import ChromeDriverManager\n",
    "import pandas as pd\n",
    "import time\n",
    "from bs4 import BeautifulSoup\n",
    "from selenium import webdriver"
   ]
  },
  {
   "cell_type": "code",
   "execution_count": 2,
   "id": "de1ebf6b-124a-4a1e-9a04-f35b542849d5",
   "metadata": {},
   "outputs": [],
   "source": [
    "import warnings\n",
    "warnings.filterwarnings(\"ignore\")"
   ]
  },
  {
   "cell_type": "code",
   "execution_count": 325,
   "id": "af0eb825-94db-4ed7-a2b0-836f89ccf133",
   "metadata": {},
   "outputs": [],
   "source": [
    "options = Options()\n",
    "options.add_argument(\"--headless\")\n",
    "options.add_argument(\"--disable-gpu\")\n",
    "\n",
    "service = Service(ChromeDriverManager().install())\n",
    "driver = webdriver.Chrome(service=service, options=options)\n",
    "\n",
    "url = \"https://www.flipkart.com/search?q=earbuds&otracker=search&otracker1=search&marketplace=FLIPKART&as-show=on&as=off&sort=price_desc\"\n",
    "driver.get(url)\n"
   ]
  },
  {
   "cell_type": "code",
   "execution_count": 326,
   "id": "64619d86-151e-42ce-b04d-efed38703e6a",
   "metadata": {},
   "outputs": [],
   "source": [
    "product_names = []\n",
    "product_prices = []\n",
    "product_discounts = []\n",
    "product_desc = []\n",
    "product_rating = []\n",
    "product_rev = []"
   ]
  },
  {
   "cell_type": "code",
   "execution_count": 328,
   "id": "47d24a6d-d918-4767-b77a-56ebc37192fb",
   "metadata": {},
   "outputs": [],
   "source": [
    "# Number of pages to scrape\n",
    "num_pages = 25\n",
    "\n",
    "for page in range(num_pages):\n",
    "    time.sleep(5)  # Let page load\n",
    "    soup = BeautifulSoup(driver.page_source, 'html.parser')\n",
    "    \n",
    "    products = soup.find_all('div', class_='cPHDOP col-12-12')\n",
    "    \n",
    "    for item in products:\n",
    "        name = item.find('a', class_='wjcEIp')\n",
    "        price = item.find('div', class_='Nx9bqj')\n",
    "        discount = item.find('div', class_='UkUFwK')\n",
    "        rating = item.find('div', class_='XQDdHH')\n",
    "        rev = item.find('span', class_='Wphh3N')\n",
    "        \n",
    "        product_names.append(name.get_text(strip=True) if name else 'N/A')\n",
    "        product_prices.append(price.get_text(strip=True) if price else 'N/A')\n",
    "        product_discounts.append(discount.get_text(strip=True) if discount else 'N/A')\n",
    "        product_rating.append(rating.get_text(strip=True) if rating else 'N/A')\n",
    "        product_rev.append(rev.get_text(strip=True) if rev else 'N/A')\n",
    "        \n",
    "    \n",
    "    # Try clicking next page\n",
    "    try:\n",
    "        next_btn = driver.find_element(\"xpath\", '//a[@class=\"_9QVEpD\"]')\n",
    "        next_btn.click()\n",
    "    except Exception as e:\n",
    "        print(\"Next page not found or end of pages.\")\n",
    "        break\n",
    "\n",
    "driver.quit()"
   ]
  },
  {
   "cell_type": "code",
   "execution_count": 329,
   "id": "a4dc3209-338d-4e48-af8b-d2db5d9ed2fd",
   "metadata": {},
   "outputs": [
    {
     "name": "stdout",
     "output_type": "stream",
     "text": [
      "                                        Product Name    Price Discount Rating  \\\n",
      "0                                                N/A      N/A      N/A    N/A   \n",
      "1  Bose New QuietComfort Ultra Wireless Earbuds w...  ₹25,900   7% off    4.4   \n",
      "2                Samsung Galaxy Buds 3 Pro Bluetooth  ₹19,999  20% off    4.5   \n",
      "\n",
      "  Review  \n",
      "0    N/A  \n",
      "1   (62)  \n",
      "2  (570)  \n"
     ]
    }
   ],
   "source": [
    "df = pd.DataFrame({\n",
    "    'Product Name': product_names,\n",
    "    'Price': product_prices,\n",
    "    'Discount': product_discounts,\n",
    "    'Rating': product_rating,\n",
    "    'Review': product_rev\n",
    "})\n",
    "\n",
    "print(df.head(3))"
   ]
  },
  {
   "cell_type": "code",
   "execution_count": 330,
   "id": "8c31c63c-c1f2-46cc-9bee-7de9fe5ad302",
   "metadata": {},
   "outputs": [
    {
     "data": {
      "text/html": [
       "<div>\n",
       "<style scoped>\n",
       "    .dataframe tbody tr th:only-of-type {\n",
       "        vertical-align: middle;\n",
       "    }\n",
       "\n",
       "    .dataframe tbody tr th {\n",
       "        vertical-align: top;\n",
       "    }\n",
       "\n",
       "    .dataframe thead th {\n",
       "        text-align: right;\n",
       "    }\n",
       "</style>\n",
       "<table border=\"1\" class=\"dataframe\">\n",
       "  <thead>\n",
       "    <tr style=\"text-align: right;\">\n",
       "      <th></th>\n",
       "      <th>Product Name</th>\n",
       "      <th>Price</th>\n",
       "      <th>Discount</th>\n",
       "      <th>Rating</th>\n",
       "      <th>Review</th>\n",
       "    </tr>\n",
       "  </thead>\n",
       "  <tbody>\n",
       "    <tr>\n",
       "      <th>0</th>\n",
       "      <td>N/A</td>\n",
       "      <td>N/A</td>\n",
       "      <td>N/A</td>\n",
       "      <td>N/A</td>\n",
       "      <td>N/A</td>\n",
       "    </tr>\n",
       "    <tr>\n",
       "      <th>1</th>\n",
       "      <td>Bose New QuietComfort Ultra Wireless Earbuds w...</td>\n",
       "      <td>₹25,900</td>\n",
       "      <td>7% off</td>\n",
       "      <td>4.4</td>\n",
       "      <td>(62)</td>\n",
       "    </tr>\n",
       "    <tr>\n",
       "      <th>2</th>\n",
       "      <td>Samsung Galaxy Buds 3 Pro Bluetooth</td>\n",
       "      <td>₹19,999</td>\n",
       "      <td>20% off</td>\n",
       "      <td>4.5</td>\n",
       "      <td>(570)</td>\n",
       "    </tr>\n",
       "    <tr>\n",
       "      <th>3</th>\n",
       "      <td>JBL Live Beam 3, Hi-Res LDAC Audio ANC TWS, Sm...</td>\n",
       "      <td>₹13,428</td>\n",
       "      <td>46% off</td>\n",
       "      <td>4.1</td>\n",
       "      <td>(499)</td>\n",
       "    </tr>\n",
       "    <tr>\n",
       "      <th>4</th>\n",
       "      <td>Apple AirPods 4 Wireless Earbuds, Personalised...</td>\n",
       "      <td>₹11,499</td>\n",
       "      <td>10% off</td>\n",
       "      <td>4.3</td>\n",
       "      <td>(1,963)</td>\n",
       "    </tr>\n",
       "    <tr>\n",
       "      <th>...</th>\n",
       "      <td>...</td>\n",
       "      <td>...</td>\n",
       "      <td>...</td>\n",
       "      <td>...</td>\n",
       "      <td>...</td>\n",
       "    </tr>\n",
       "    <tr>\n",
       "      <th>3664</th>\n",
       "      <td>SANNO WORLD Smart Touch Earbuds with Quick Pai...</td>\n",
       "      <td>₹5,000</td>\n",
       "      <td>49% off</td>\n",
       "      <td>N/A</td>\n",
       "      <td>N/A</td>\n",
       "    </tr>\n",
       "    <tr>\n",
       "      <th>3665</th>\n",
       "      <td>N/A</td>\n",
       "      <td>N/A</td>\n",
       "      <td>N/A</td>\n",
       "      <td>N/A</td>\n",
       "      <td>N/A</td>\n",
       "    </tr>\n",
       "    <tr>\n",
       "      <th>3666</th>\n",
       "      <td>N/A</td>\n",
       "      <td>N/A</td>\n",
       "      <td>N/A</td>\n",
       "      <td>N/A</td>\n",
       "      <td>N/A</td>\n",
       "    </tr>\n",
       "    <tr>\n",
       "      <th>3667</th>\n",
       "      <td>N/A</td>\n",
       "      <td>₹22,990</td>\n",
       "      <td>7% off</td>\n",
       "      <td>4.6</td>\n",
       "      <td>N/A</td>\n",
       "    </tr>\n",
       "    <tr>\n",
       "      <th>3668</th>\n",
       "      <td>N/A</td>\n",
       "      <td>N/A</td>\n",
       "      <td>N/A</td>\n",
       "      <td>N/A</td>\n",
       "      <td>N/A</td>\n",
       "    </tr>\n",
       "  </tbody>\n",
       "</table>\n",
       "<p>3669 rows × 5 columns</p>\n",
       "</div>"
      ],
      "text/plain": [
       "                                           Product Name    Price Discount  \\\n",
       "0                                                   N/A      N/A      N/A   \n",
       "1     Bose New QuietComfort Ultra Wireless Earbuds w...  ₹25,900   7% off   \n",
       "2                   Samsung Galaxy Buds 3 Pro Bluetooth  ₹19,999  20% off   \n",
       "3     JBL Live Beam 3, Hi-Res LDAC Audio ANC TWS, Sm...  ₹13,428  46% off   \n",
       "4     Apple AirPods 4 Wireless Earbuds, Personalised...  ₹11,499  10% off   \n",
       "...                                                 ...      ...      ...   \n",
       "3664  SANNO WORLD Smart Touch Earbuds with Quick Pai...   ₹5,000  49% off   \n",
       "3665                                                N/A      N/A      N/A   \n",
       "3666                                                N/A      N/A      N/A   \n",
       "3667                                                N/A  ₹22,990   7% off   \n",
       "3668                                                N/A      N/A      N/A   \n",
       "\n",
       "     Rating   Review  \n",
       "0       N/A      N/A  \n",
       "1       4.4     (62)  \n",
       "2       4.5    (570)  \n",
       "3       4.1    (499)  \n",
       "4       4.3  (1,963)  \n",
       "...     ...      ...  \n",
       "3664    N/A      N/A  \n",
       "3665    N/A      N/A  \n",
       "3666    N/A      N/A  \n",
       "3667    4.6      N/A  \n",
       "3668    N/A      N/A  \n",
       "\n",
       "[3669 rows x 5 columns]"
      ]
     },
     "execution_count": 330,
     "metadata": {},
     "output_type": "execute_result"
    }
   ],
   "source": [
    "df"
   ]
  },
  {
   "cell_type": "code",
   "execution_count": 332,
   "id": "4cc1d92b-e40b-4254-9df7-bc48d8d34790",
   "metadata": {},
   "outputs": [],
   "source": [
    "df.to_csv(\"uncleaned_Earphones1.csv\", index=False)"
   ]
  },
  {
   "cell_type": "markdown",
   "id": "9ff82c47-b366-4089-aa44-40892fa8d920",
   "metadata": {},
   "source": [
    "### DATA CLEANING"
   ]
  },
  {
   "cell_type": "code",
   "execution_count": 333,
   "id": "6a899428-dc1a-4062-9e56-ba8312715dd0",
   "metadata": {},
   "outputs": [],
   "source": [
    "df = df.dropna(how=\"all\")\n",
    "df = df[~(df == 'N/A').all(axis=1)]"
   ]
  },
  {
   "cell_type": "code",
   "execution_count": 334,
   "id": "194c6843-3968-48d3-8f13-7972990d4a95",
   "metadata": {},
   "outputs": [],
   "source": [
    "df = df.dropna(subset=['Price'])\n",
    "df = df[df['Price'] != 'N/A']"
   ]
  },
  {
   "cell_type": "code",
   "execution_count": 335,
   "id": "68ccd02a-8b06-4903-84c0-823d6f36856d",
   "metadata": {},
   "outputs": [],
   "source": [
    "df = df.dropna(subset=['Product Name'])\n",
    "df = df[df['Product Name'] != 'N/A']"
   ]
  },
  {
   "cell_type": "code",
   "execution_count": 336,
   "id": "0ee868da-fc16-4491-a636-8508b76146a0",
   "metadata": {},
   "outputs": [],
   "source": [
    "df = df.dropna(subset=['Discount'])\n",
    "df = df[df['Discount'] != 'N/A']"
   ]
  },
  {
   "cell_type": "code",
   "execution_count": 337,
   "id": "5ee763ba-20ba-48a1-944d-3ba79b8636b3",
   "metadata": {},
   "outputs": [],
   "source": [
    "df = df.dropna(subset=['Rating'])\n",
    "df = df[df['Rating'] != 'N/A']"
   ]
  },
  {
   "cell_type": "code",
   "execution_count": 338,
   "id": "ed426de5-745d-4373-a928-33072236e906",
   "metadata": {},
   "outputs": [],
   "source": [
    "df = df.dropna(subset=['Review'])\n",
    "df = df[df['Review'] != 'N/A']"
   ]
  },
  {
   "cell_type": "code",
   "execution_count": 300,
   "id": "2cc649d0-0090-4ebd-873c-167dad0101ec",
   "metadata": {},
   "outputs": [],
   "source": [
    "# df = df.drop_duplicates()"
   ]
  },
  {
   "cell_type": "code",
   "execution_count": 339,
   "id": "46608557-7314-4724-9ae9-3f9d1ac94bfe",
   "metadata": {},
   "outputs": [
    {
     "data": {
      "text/html": [
       "<div>\n",
       "<style scoped>\n",
       "    .dataframe tbody tr th:only-of-type {\n",
       "        vertical-align: middle;\n",
       "    }\n",
       "\n",
       "    .dataframe tbody tr th {\n",
       "        vertical-align: top;\n",
       "    }\n",
       "\n",
       "    .dataframe thead th {\n",
       "        text-align: right;\n",
       "    }\n",
       "</style>\n",
       "<table border=\"1\" class=\"dataframe\">\n",
       "  <thead>\n",
       "    <tr style=\"text-align: right;\">\n",
       "      <th></th>\n",
       "      <th>Product Name</th>\n",
       "      <th>Price</th>\n",
       "      <th>Discount</th>\n",
       "      <th>Rating</th>\n",
       "      <th>Review</th>\n",
       "    </tr>\n",
       "  </thead>\n",
       "  <tbody>\n",
       "    <tr>\n",
       "      <th>1</th>\n",
       "      <td>Bose New QuietComfort Ultra Wireless Earbuds w...</td>\n",
       "      <td>₹25,900</td>\n",
       "      <td>7% off</td>\n",
       "      <td>4.4</td>\n",
       "      <td>(62)</td>\n",
       "    </tr>\n",
       "    <tr>\n",
       "      <th>2</th>\n",
       "      <td>Samsung Galaxy Buds 3 Pro Bluetooth</td>\n",
       "      <td>₹19,999</td>\n",
       "      <td>20% off</td>\n",
       "      <td>4.5</td>\n",
       "      <td>(570)</td>\n",
       "    </tr>\n",
       "    <tr>\n",
       "      <th>3</th>\n",
       "      <td>JBL Live Beam 3, Hi-Res LDAC Audio ANC TWS, Sm...</td>\n",
       "      <td>₹13,428</td>\n",
       "      <td>46% off</td>\n",
       "      <td>4.1</td>\n",
       "      <td>(499)</td>\n",
       "    </tr>\n",
       "    <tr>\n",
       "      <th>4</th>\n",
       "      <td>Apple AirPods 4 Wireless Earbuds, Personalised...</td>\n",
       "      <td>₹11,499</td>\n",
       "      <td>10% off</td>\n",
       "      <td>4.3</td>\n",
       "      <td>(1,963)</td>\n",
       "    </tr>\n",
       "    <tr>\n",
       "      <th>5</th>\n",
       "      <td>Google Pixel Buds Pro with Active Noise Cancel...</td>\n",
       "      <td>₹9,990</td>\n",
       "      <td>49% off</td>\n",
       "      <td>4.5</td>\n",
       "      <td>(4,199)</td>\n",
       "    </tr>\n",
       "    <tr>\n",
       "      <th>...</th>\n",
       "      <td>...</td>\n",
       "      <td>...</td>\n",
       "      <td>...</td>\n",
       "      <td>...</td>\n",
       "      <td>...</td>\n",
       "    </tr>\n",
       "    <tr>\n",
       "      <th>3656</th>\n",
       "      <td>Marshall Minor IV Wireless Earbuds 30+ Hr of P...</td>\n",
       "      <td>₹11,999</td>\n",
       "      <td>10% off</td>\n",
       "      <td>3.4</td>\n",
       "      <td>(42)</td>\n",
       "    </tr>\n",
       "    <tr>\n",
       "      <th>3657</th>\n",
       "      <td>OnePlus Buds Pro 3 - Midnight Opus Bluetooth</td>\n",
       "      <td>₹9,999</td>\n",
       "      <td>28% off</td>\n",
       "      <td>4.4</td>\n",
       "      <td>(1,443)</td>\n",
       "    </tr>\n",
       "    <tr>\n",
       "      <th>3658</th>\n",
       "      <td>OnePlus Buds Pro 2 Bluetooth</td>\n",
       "      <td>₹6,481</td>\n",
       "      <td>53% off</td>\n",
       "      <td>4.4</td>\n",
       "      <td>(8,244)</td>\n",
       "    </tr>\n",
       "    <tr>\n",
       "      <th>3659</th>\n",
       "      <td>realme Buds Air 7 Pro with 53dB ANC,360 Spatia...</td>\n",
       "      <td>₹5,499</td>\n",
       "      <td>31% off</td>\n",
       "      <td>4.4</td>\n",
       "      <td>(1,917)</td>\n",
       "    </tr>\n",
       "    <tr>\n",
       "      <th>3660</th>\n",
       "      <td>Nothing Ear (a) 2024 | ChatGPT Compatible | Hi...</td>\n",
       "      <td>₹5,499</td>\n",
       "      <td>45% off</td>\n",
       "      <td>4.2</td>\n",
       "      <td>(3,170)</td>\n",
       "    </tr>\n",
       "  </tbody>\n",
       "</table>\n",
       "<p>1050 rows × 5 columns</p>\n",
       "</div>"
      ],
      "text/plain": [
       "                                           Product Name    Price Discount  \\\n",
       "1     Bose New QuietComfort Ultra Wireless Earbuds w...  ₹25,900   7% off   \n",
       "2                   Samsung Galaxy Buds 3 Pro Bluetooth  ₹19,999  20% off   \n",
       "3     JBL Live Beam 3, Hi-Res LDAC Audio ANC TWS, Sm...  ₹13,428  46% off   \n",
       "4     Apple AirPods 4 Wireless Earbuds, Personalised...  ₹11,499  10% off   \n",
       "5     Google Pixel Buds Pro with Active Noise Cancel...   ₹9,990  49% off   \n",
       "...                                                 ...      ...      ...   \n",
       "3656  Marshall Minor IV Wireless Earbuds 30+ Hr of P...  ₹11,999  10% off   \n",
       "3657       OnePlus Buds Pro 3 - Midnight Opus Bluetooth   ₹9,999  28% off   \n",
       "3658                       OnePlus Buds Pro 2 Bluetooth   ₹6,481  53% off   \n",
       "3659  realme Buds Air 7 Pro with 53dB ANC,360 Spatia...   ₹5,499  31% off   \n",
       "3660  Nothing Ear (a) 2024 | ChatGPT Compatible | Hi...   ₹5,499  45% off   \n",
       "\n",
       "     Rating   Review  \n",
       "1       4.4     (62)  \n",
       "2       4.5    (570)  \n",
       "3       4.1    (499)  \n",
       "4       4.3  (1,963)  \n",
       "5       4.5  (4,199)  \n",
       "...     ...      ...  \n",
       "3656    3.4     (42)  \n",
       "3657    4.4  (1,443)  \n",
       "3658    4.4  (8,244)  \n",
       "3659    4.4  (1,917)  \n",
       "3660    4.2  (3,170)  \n",
       "\n",
       "[1050 rows x 5 columns]"
      ]
     },
     "execution_count": 339,
     "metadata": {},
     "output_type": "execute_result"
    }
   ],
   "source": [
    "df"
   ]
  },
  {
   "cell_type": "code",
   "execution_count": 340,
   "id": "03601a8d-d1be-4a56-93e0-87f6ab5c29d1",
   "metadata": {},
   "outputs": [
    {
     "data": {
      "text/plain": [
       "(1050, 5)"
      ]
     },
     "execution_count": 340,
     "metadata": {},
     "output_type": "execute_result"
    }
   ],
   "source": [
    "df.shape"
   ]
  },
  {
   "cell_type": "code",
   "execution_count": 341,
   "id": "410fc1b3-36fe-43b8-bcbe-566b8eed9e33",
   "metadata": {},
   "outputs": [],
   "source": [
    "df = df.rename(columns={'Product Name': 'Brand'})"
   ]
  },
  {
   "cell_type": "code",
   "execution_count": 342,
   "id": "2d205629-2652-4713-bc1f-183c5afabe20",
   "metadata": {},
   "outputs": [],
   "source": [
    "df['Prices'] = df['Price'].str.replace('₹', '', regex=False).str.replace(',', '', regex=False)\n",
    "df['Prices'] = df['Prices'].astype(float)"
   ]
  },
  {
   "cell_type": "code",
   "execution_count": 343,
   "id": "51bb1e30-e154-4ee1-9bd9-e524e4ab16b4",
   "metadata": {},
   "outputs": [],
   "source": [
    "df=df.drop(['Price'],axis=1)"
   ]
  },
  {
   "cell_type": "code",
   "execution_count": 344,
   "id": "de80c768-8318-4c95-984e-38ad1ffd4848",
   "metadata": {},
   "outputs": [],
   "source": [
    "df['Discount'] = df['Discount'].str.extract(r'(\\d+)').astype(int)"
   ]
  },
  {
   "cell_type": "code",
   "execution_count": 345,
   "id": "514b09b0-65bb-457d-bd43-3c10abcb57d7",
   "metadata": {},
   "outputs": [],
   "source": [
    "df['Review'] = df['Review'].str.replace(r\"[()]\", \"\", regex=True)"
   ]
  },
  {
   "cell_type": "code",
   "execution_count": 346,
   "id": "7932f8de-085b-4587-a64f-99197abd766e",
   "metadata": {},
   "outputs": [],
   "source": [
    "df['Rating']=pd.to_numeric(df['Rating'],errors='coerce')"
   ]
  },
  {
   "cell_type": "code",
   "execution_count": 347,
   "id": "53a712db-1152-4316-bea2-f9b0cd74742a",
   "metadata": {},
   "outputs": [],
   "source": [
    "df['Review'] = df['Review'].astype(str).str.replace(\",\", \"\", regex=True)\n",
    "df['Review'] = pd.to_numeric(df['Review'], errors=\"coerce\")"
   ]
  },
  {
   "cell_type": "code",
   "execution_count": 348,
   "id": "ed051f41-66bc-41b2-8380-855c236134a9",
   "metadata": {},
   "outputs": [],
   "source": [
    "df['Review'] = df['Review'].fillna(\"0\")"
   ]
  },
  {
   "cell_type": "code",
   "execution_count": 349,
   "id": "b5e82b4f-067b-4386-bd9c-1ccc9e488f35",
   "metadata": {},
   "outputs": [
    {
     "data": {
      "text/plain": [
       "Brand        object\n",
       "Discount      int32\n",
       "Rating      float64\n",
       "Review        int64\n",
       "Prices      float64\n",
       "dtype: object"
      ]
     },
     "execution_count": 349,
     "metadata": {},
     "output_type": "execute_result"
    }
   ],
   "source": [
    "df.dtypes"
   ]
  },
  {
   "cell_type": "code",
   "execution_count": 350,
   "id": "85e9da4b-993d-4b83-97e1-d943a300c136",
   "metadata": {},
   "outputs": [
    {
     "data": {
      "text/html": [
       "<div>\n",
       "<style scoped>\n",
       "    .dataframe tbody tr th:only-of-type {\n",
       "        vertical-align: middle;\n",
       "    }\n",
       "\n",
       "    .dataframe tbody tr th {\n",
       "        vertical-align: top;\n",
       "    }\n",
       "\n",
       "    .dataframe thead th {\n",
       "        text-align: right;\n",
       "    }\n",
       "</style>\n",
       "<table border=\"1\" class=\"dataframe\">\n",
       "  <thead>\n",
       "    <tr style=\"text-align: right;\">\n",
       "      <th></th>\n",
       "      <th>Brand</th>\n",
       "      <th>Discount</th>\n",
       "      <th>Rating</th>\n",
       "      <th>Review</th>\n",
       "      <th>Prices</th>\n",
       "    </tr>\n",
       "  </thead>\n",
       "  <tbody>\n",
       "    <tr>\n",
       "      <th>1</th>\n",
       "      <td>Bose New QuietComfort Ultra Wireless Earbuds w...</td>\n",
       "      <td>7</td>\n",
       "      <td>4.4</td>\n",
       "      <td>62</td>\n",
       "      <td>25900.0</td>\n",
       "    </tr>\n",
       "    <tr>\n",
       "      <th>2</th>\n",
       "      <td>Samsung Galaxy Buds 3 Pro Bluetooth</td>\n",
       "      <td>20</td>\n",
       "      <td>4.5</td>\n",
       "      <td>570</td>\n",
       "      <td>19999.0</td>\n",
       "    </tr>\n",
       "    <tr>\n",
       "      <th>3</th>\n",
       "      <td>JBL Live Beam 3, Hi-Res LDAC Audio ANC TWS, Sm...</td>\n",
       "      <td>46</td>\n",
       "      <td>4.1</td>\n",
       "      <td>499</td>\n",
       "      <td>13428.0</td>\n",
       "    </tr>\n",
       "    <tr>\n",
       "      <th>4</th>\n",
       "      <td>Apple AirPods 4 Wireless Earbuds, Personalised...</td>\n",
       "      <td>10</td>\n",
       "      <td>4.3</td>\n",
       "      <td>1963</td>\n",
       "      <td>11499.0</td>\n",
       "    </tr>\n",
       "    <tr>\n",
       "      <th>5</th>\n",
       "      <td>Google Pixel Buds Pro with Active Noise Cancel...</td>\n",
       "      <td>49</td>\n",
       "      <td>4.5</td>\n",
       "      <td>4199</td>\n",
       "      <td>9990.0</td>\n",
       "    </tr>\n",
       "    <tr>\n",
       "      <th>...</th>\n",
       "      <td>...</td>\n",
       "      <td>...</td>\n",
       "      <td>...</td>\n",
       "      <td>...</td>\n",
       "      <td>...</td>\n",
       "    </tr>\n",
       "    <tr>\n",
       "      <th>3656</th>\n",
       "      <td>Marshall Minor IV Wireless Earbuds 30+ Hr of P...</td>\n",
       "      <td>10</td>\n",
       "      <td>3.4</td>\n",
       "      <td>42</td>\n",
       "      <td>11999.0</td>\n",
       "    </tr>\n",
       "    <tr>\n",
       "      <th>3657</th>\n",
       "      <td>OnePlus Buds Pro 3 - Midnight Opus Bluetooth</td>\n",
       "      <td>28</td>\n",
       "      <td>4.4</td>\n",
       "      <td>1443</td>\n",
       "      <td>9999.0</td>\n",
       "    </tr>\n",
       "    <tr>\n",
       "      <th>3658</th>\n",
       "      <td>OnePlus Buds Pro 2 Bluetooth</td>\n",
       "      <td>53</td>\n",
       "      <td>4.4</td>\n",
       "      <td>8244</td>\n",
       "      <td>6481.0</td>\n",
       "    </tr>\n",
       "    <tr>\n",
       "      <th>3659</th>\n",
       "      <td>realme Buds Air 7 Pro with 53dB ANC,360 Spatia...</td>\n",
       "      <td>31</td>\n",
       "      <td>4.4</td>\n",
       "      <td>1917</td>\n",
       "      <td>5499.0</td>\n",
       "    </tr>\n",
       "    <tr>\n",
       "      <th>3660</th>\n",
       "      <td>Nothing Ear (a) 2024 | ChatGPT Compatible | Hi...</td>\n",
       "      <td>45</td>\n",
       "      <td>4.2</td>\n",
       "      <td>3170</td>\n",
       "      <td>5499.0</td>\n",
       "    </tr>\n",
       "  </tbody>\n",
       "</table>\n",
       "<p>1050 rows × 5 columns</p>\n",
       "</div>"
      ],
      "text/plain": [
       "                                                  Brand  Discount  Rating  \\\n",
       "1     Bose New QuietComfort Ultra Wireless Earbuds w...         7     4.4   \n",
       "2                   Samsung Galaxy Buds 3 Pro Bluetooth        20     4.5   \n",
       "3     JBL Live Beam 3, Hi-Res LDAC Audio ANC TWS, Sm...        46     4.1   \n",
       "4     Apple AirPods 4 Wireless Earbuds, Personalised...        10     4.3   \n",
       "5     Google Pixel Buds Pro with Active Noise Cancel...        49     4.5   \n",
       "...                                                 ...       ...     ...   \n",
       "3656  Marshall Minor IV Wireless Earbuds 30+ Hr of P...        10     3.4   \n",
       "3657       OnePlus Buds Pro 3 - Midnight Opus Bluetooth        28     4.4   \n",
       "3658                       OnePlus Buds Pro 2 Bluetooth        53     4.4   \n",
       "3659  realme Buds Air 7 Pro with 53dB ANC,360 Spatia...        31     4.4   \n",
       "3660  Nothing Ear (a) 2024 | ChatGPT Compatible | Hi...        45     4.2   \n",
       "\n",
       "      Review   Prices  \n",
       "1         62  25900.0  \n",
       "2        570  19999.0  \n",
       "3        499  13428.0  \n",
       "4       1963  11499.0  \n",
       "5       4199   9990.0  \n",
       "...      ...      ...  \n",
       "3656      42  11999.0  \n",
       "3657    1443   9999.0  \n",
       "3658    8244   6481.0  \n",
       "3659    1917   5499.0  \n",
       "3660    3170   5499.0  \n",
       "\n",
       "[1050 rows x 5 columns]"
      ]
     },
     "execution_count": 350,
     "metadata": {},
     "output_type": "execute_result"
    }
   ],
   "source": [
    "df"
   ]
  },
  {
   "cell_type": "code",
   "execution_count": 351,
   "id": "5ab5fec1-4652-4ea4-a81f-5b67bdfe2e56",
   "metadata": {},
   "outputs": [
    {
     "data": {
      "text/plain": [
       "Brand       0\n",
       "Discount    0\n",
       "Rating      0\n",
       "Review      0\n",
       "Prices      0\n",
       "dtype: int64"
      ]
     },
     "execution_count": 351,
     "metadata": {},
     "output_type": "execute_result"
    }
   ],
   "source": [
    "df.isnull().sum()"
   ]
  },
  {
   "cell_type": "code",
   "execution_count": 378,
   "id": "8cef96a9-c138-4470-bdb0-409b1b075de6",
   "metadata": {},
   "outputs": [],
   "source": [
    "df.to_csv(\"Earphones.csv\", index=False)"
   ]
  },
  {
   "cell_type": "markdown",
   "id": "22f3d63b-2cfc-4f7f-8823-a145c1f0fabb",
   "metadata": {},
   "source": [
    "## SQL"
   ]
  },
  {
   "cell_type": "code",
   "execution_count": 353,
   "id": "ec6a27df-223e-493a-876f-2081bffeaae7",
   "metadata": {},
   "outputs": [],
   "source": [
    "import sqlalchemy"
   ]
  },
  {
   "cell_type": "code",
   "execution_count": 354,
   "id": "4e77283b-c2b1-4208-b551-c48851b9068a",
   "metadata": {},
   "outputs": [],
   "source": [
    "engine = sqlalchemy.create_engine('mysql+pymysql://magnathan:Butti@24@localhost:3306/Earphones')"
   ]
  },
  {
   "cell_type": "code",
   "execution_count": 355,
   "id": "522b5bb5-7fc8-4e36-956c-b50a2c0bb791",
   "metadata": {},
   "outputs": [
    {
     "data": {
      "text/plain": [
       "Brand        object\n",
       "Discount      int32\n",
       "Rating      float64\n",
       "Review        int64\n",
       "Prices      float64\n",
       "dtype: object"
      ]
     },
     "execution_count": 355,
     "metadata": {},
     "output_type": "execute_result"
    }
   ],
   "source": [
    "df.dtypes"
   ]
  },
  {
   "cell_type": "markdown",
   "id": "facd3309-a5ff-4d0f-bc4f-2994f7442cef",
   "metadata": {},
   "source": [
    "## EDA"
   ]
  },
  {
   "cell_type": "code",
   "execution_count": 356,
   "id": "670b41a2-4e0c-4f6e-a8d1-04319f55aad4",
   "metadata": {},
   "outputs": [],
   "source": [
    "import matplotlib.pyplot as plt\n",
    "import seaborn as sns\n",
    "import plotly.express as pt"
   ]
  },
  {
   "cell_type": "code",
   "execution_count": 357,
   "id": "e31cc5e8-4e20-4edb-849c-8f7a575ddd34",
   "metadata": {},
   "outputs": [
    {
     "data": {
      "image/png": "[encoded data removed]",
      "text/plain": [
       "<Figure size 1000x600 with 1 Axes>"
      ]
     },
     "metadata": {},
     "output_type": "display_data"
    }
   ],
   "source": [
    "plt.figure(figsize=(10,6))\n",
    "sns.histplot(data=df, x=\"Prices\", bins=bins, color='skyblue', edgecolor='black')\n",
    "\n",
    "plt.title(\"Histogram of Prices (Custom Ranges)\")\n",
    "plt.xlabel(\"Price Range\")\n",
    "plt.ylabel(\"Count\")\n",
    "plt.show()"
   ]
  },
  {
   "cell_type": "code",
   "execution_count": 358,
   "id": "203604b7-b4d0-450d-bdc1-b4660ea222a5",
   "metadata": {},
   "outputs": [
    {
     "data": {
      "image/png": "[encoded data removed]",
      "text/plain": [
       "<Figure size 1000x600 with 1 Axes>"
      ]
     },
     "metadata": {},
     "output_type": "display_data"
    }
   ],
   "source": [
    "plt.figure(figsize=(10,6))\n",
    "sns.scatterplot(x='Rating', y='Review', data=df, color='green', alpha=0.6)\n",
    "\n",
    "plt.title('Scatter Plot of Reviews vs Rating')\n",
    "plt.xlabel('Rating')\n",
    "plt.ylabel('Number of Reviews')\n",
    "plt.show()"
   ]
  },
  {
   "cell_type": "code",
   "execution_count": 365,
   "id": "b6ccb876-7a04-45da-9e9a-3a4c4e05905a",
   "metadata": {},
   "outputs": [
    {
     "data": {
      "image/png": "[encoded data removed]",
      "text/plain": [
       "<Figure size 1200x600 with 1 Axes>"
      ]
     },
     "metadata": {},
     "output_type": "display_data"
    }
   ],
   "source": [
    "plt.figure(figsize=(12,6))\n",
    "sns.barplot(x='Discount', y='Prices', data=df, palette='rainbow')\n",
    "\n",
    "plt.title('Price Distribution by Discount (Bar Plot)')\n",
    "plt.xlabel('Discount')\n",
    "plt.ylabel('Price')\n",
    "plt.show()"
   ]
  },
  {
   "cell_type": "code",
   "execution_count": 366,
   "id": "1377513d-33ba-4ae7-9dd3-38ccd91625ba",
   "metadata": {},
   "outputs": [
    {
     "data": {
      "image/png": "[encoded data removed]",
      "text/plain": [
       "<Figure size 1500x1000 with 1 Axes>"
      ]
     },
     "metadata": {},
     "output_type": "display_data"
    }
   ],
   "source": [
    "#univerient\n",
    "plt.figure(figsize=(15, 10))\n",
    "df['Brand'].value_counts().plot(kind='bar', color='brown')\n",
    "plt.title('brand')\n",
    "plt.xlabel('Brand')\n",
    "plt.ylabel('count')\n",
    "plt.xticks(rotation=90)\n",
    "plt.tight_layout()\n",
    "plt.show()"
   ]
  },
  {
   "cell_type": "code",
   "execution_count": 367,
   "id": "1e96acc3-1e5f-441e-8737-6cd484e34a6d",
   "metadata": {},
   "outputs": [
    {
     "name": "stdout",
     "output_type": "stream",
     "text": [
      "Maximum Review value: 39987\n"
     ]
    }
   ],
   "source": [
    "# Find the maximum value in Review column\n",
    "max_review = df['Review'].max()\n",
    "print(\"Maximum Review value:\", max_review)"
   ]
  },
  {
   "cell_type": "code",
   "execution_count": 368,
   "id": "5534b8f7-e713-479d-9b34-9a0b299a1c6f",
   "metadata": {},
   "outputs": [
    {
     "name": "stdout",
     "output_type": "stream",
     "text": [
      "Maximum price value: 25900.0\n"
     ]
    }
   ],
   "source": [
    "max_review = df['Prices'].max()\n",
    "print(\"Maximum price value:\", max_review)"
   ]
  },
  {
   "cell_type": "code",
   "execution_count": 369,
   "id": "18193e6f-7690-4357-9ecd-a2cdd9a2955c",
   "metadata": {},
   "outputs": [
    {
     "name": "stdout",
     "output_type": "stream",
     "text": [
      "min price value: 5499.0\n"
     ]
    }
   ],
   "source": [
    "min_review = df['Prices'].min()\n",
    "print(\"min price value:\", min_review)"
   ]
  },
  {
   "cell_type": "code",
   "execution_count": 370,
   "id": "0967f14e-874a-446f-abff-441b6047f6d6",
   "metadata": {},
   "outputs": [
    {
     "data": {
      "image/png": "[encoded data removed]",
      "text/plain": [
       "<Figure size 640x480 with 1 Axes>"
      ]
     },
     "metadata": {},
     "output_type": "display_data"
    }
   ],
   "source": [
    "# Now plot boxplot\n",
    "plt.boxplot([df['Review'].dropna(), df['Prices'].dropna()])\n",
    "plt.xticks([1, 2], ['Review', 'Prices'])\n",
    "plt.ylabel('Values')\n",
    "plt.title('Boxplot of Review and Prices')\n",
    "plt.show()"
   ]
  },
  {
   "cell_type": "code",
   "execution_count": 371,
   "id": "8cff0ed7-4c89-4dda-9336-a5e8815fc152",
   "metadata": {},
   "outputs": [
    {
     "data": {
      "application/vnd.plotly.v1+json": {
       "config": {
        "plotlyServerURL": "https://plot.ly"
       },
       "data": [
        {
         "domain": {
          "x": [
           0,
           1
          ],
          "y": [
           0,
           1
          ]
         },
         "hovertemplate": "Rating=%{label}<extra></extra>",
         "labels": [
          4.4,
          4.5,
          4.1,
          4.3,
          4.5,
          4.3,
          3.6,
          4.4,
          4.5,
          4.5,
          4.4,
          4.5,
          4.1,
          4.3,
          4.5,
          4.3,
          3.6,
          4.4,
          4.5,
          4.5,
          4.4,
          4.5,
          4.1,
          4.3,
          4.5,
          4.3,
          3.6,
          4.4,
          4.5,
          4.5,
          4.4,
          4.5,
          4.1,
          4.3,
          4.5,
          4.3,
          3.6,
          4.4,
          4.5,
          4.5,
          4.4,
          4.5,
          4.1,
          4.3,
          4.5,
          4.3,
          3.6,
          4.4,
          4.5,
          4.5,
          4.4,
          4.5,
          4.1,
          4.3,
          4.5,
          4.3,
          3.6,
          4.4,
          4.5,
          4.5,
          4.4,
          4.5,
          4.1,
          4.3,
          4.5,
          4.3,
          3.6,
          4.4,
          4.5,
          4.5,
          4.4,
          4.5,
          4.1,
          4.3,
          4.5,
          4.3,
          3.6,
          4.4,
          4.5,
          4.5,
          4.4,
          4.5,
          4.1,
          4.3,
          4.5,
          4.3,
          3.6,
          4.4,
          4.5,
          4.5,
          4.4,
          4.5,
          4.1,
          4.3,
          4.5,
          4.3,
          3.6,
          4.4,
          4.5,
          4.5,
          4.4,
          4.5,
          4.1,
          4.3,
          4.5,
          4.3,
          3.6,
          4.4,
          4.5,
          4.5,
          4.4,
          4.5,
          4.1,
          4.3,
          4.5,
          4.3,
          3.6,
          4.4,
          4.5,
          4.5,
          4.4,
          4.5,
          4.1,
          4.3,
          4.5,
          4.3,
          3.6,
          4.4,
          4.5,
          4.5,
          4.4,
          4.5,
          4.1,
          4.3,
          4.5,
          4.3,
          3.6,
          4.4,
          4.5,
          4.5,
          4.4,
          4.5,
          4.1,
          4.3,
          4.5,
          4.3,
          3.6,
          4.4,
          4.5,
          4.5,
          4.4,
          4.5,
          4.1,
          4.3,
          4.5,
          4.3,
          3.6,
          4.4,
          4.5,
          4.5,
          4.4,
          4.5,
          4.1,
          4.3,
          4.5,
          4.3,
          3.6,
          4.4,
          4.5,
          4.5,
          4.4,
          4.5,
          4.1,
          4.3,
          4.5,
          4.3,
          3.6,
          4.4,
          4.5,
          4.5,
          4.4,
          4.5,
          4.1,
          4.3,
          4.5,
          4.3,
          3.6,
          4.4,
          4.5,
          4.5,
          4.4,
          4.5,
          4.1,
          4.3,
          4.5,
          4.3,
          3.6,
          4.4,
          4.5,
          4.5,
          4.4,
          4.5,
          4.1,
          4.3,
          4.5,
          4.3,
          3.6,
          4.4,
          4.5,
          4.5,
          4.4,
          4.5,
          4.1,
          4.3,
          4.5,
          4.3,
          3.6,
          4.4,
          4.5,
          4.5,
          4.4,
          4.5,
          4.1,
          4.3,
          4.5,
          4.3,
          3.6,
          4.4,
          4.5,
          4.5,
          4.4,
          4.5,
          4.1,
          4.3,
          4.5,
          4.3,
          3.6,
          4.4,
          4.5,
          4.5,
          4.4,
          4.5,
          4.1,
          4.3,
          4.5,
          4.3,
          3.6,
          4.4,
          4.5,
          4.5,
          4.4,
          4.5,
          4.1,
          4.3,
          4.5,
          4.3,
          3.6,
          4.4,
          4.5,
          4.5,
          4.4,
          4.5,
          4.1,
          4.3,
          4.5,
          4.3,
          3.6,
          4.4,
          4.5,
          4.5,
          4.4,
          4.5,
          4.1,
          4.3,
          4.5,
          4.3,
          3.6,
          4.4,
          4.5,
          4.5,
          4.4,
          4.5,
          4.1,
          4.3,
          4.5,
          4.3,
          3.6,
          4.4,
          4.5,
          4.5,
          4.4,
          4.5,
          4.1,
          4.3,
          4.5,
          4.3,
          3.6,
          4.4,
          4.5,
          4.5,
          4.4,
          4.5,
          4.1,
          4.3,
          4.5,
          4.3,
          3.6,
          4.4,
          4.5,
          4.5,
          4.4,
          4.5,
          4.1,
          4.3,
          4.5,
          4.3,
          3.6,
          4.4,
          4.5,
          4.5,
          4.4,
          4.5,
          4.1,
          4.3,
          4.5,
          4.3,
          3.6,
          4.4,
          4.5,
          4.5,
          4.4,
          4.5,
          4.1,
          4.3,
          4.5,
          4.3,
          3.6,
          4.4,
          4.5,
          4.5,
          4.4,
          4.5,
          4.1,
          4.3,
          4.5,
          4.3,
          3.6,
          4.4,
          4.5,
          4.5,
          4.4,
          4.5,
          4.1,
          4.3,
          4.5,
          4.3,
          3.6,
          4.4,
          4.5,
          4.5,
          4.4,
          4.5,
          4.1,
          4.3,
          4.5,
          4.3,
          3.6,
          4.4,
          4.5,
          4.5,
          4.4,
          4.5,
          4.1,
          4.3,
          4.5,
          4.3,
          3.6,
          4.4,
          4.5,
          4.5,
          4.4,
          4.5,
          4.1,
          4.3,
          4.5,
          4.3,
          3.6,
          4.4,
          4.5,
          4.5,
          4.4,
          4.5,
          4.1,
          4.3,
          4.5,
          4.3,
          3.6,
          4.4,
          4.5,
          4.5,
          4.4,
          4.5,
          4.1,
          4.3,
          4.5,
          4.3,
          3.6,
          4.4,
          4.5,
          4.5,
          4.4,
          4.5,
          4.1,
          4.3,
          4.5,
          4.3,
          3.6,
          4.4,
          4.5,
          4.5,
          4.4,
          4.5,
          4.1,
          4.3,
          4.5,
          4.3,
          3.6,
          4.4,
          4.5,
          4.5,
          4.4,
          4.5,
          4.1,
          4.3,
          4.5,
          4.3,
          3.6,
          4.4,
          4.5,
          4.5,
          4.4,
          4.5,
          4.1,
          4.3,
          4.5,
          4.3,
          3.6,
          4.4,
          4.5,
          4.5,
          4.4,
          4.5,
          4.1,
          4.3,
          4.5,
          4.3,
          3.6,
          4.4,
          4.5,
          4.5,
          4.4,
          4.5,
          4.1,
          4.3,
          4.5,
          4.3,
          3.6,
          4.4,
          4.5,
          4.5,
          4.4,
          4.5,
          4.1,
          4.3,
          4.5,
          4.3,
          3.6,
          4.4,
          4.5,
          4.5,
          4.4,
          4.5,
          4.1,
          4.3,
          4.5,
          4.3,
          3.6,
          4.4,
          4.5,
          4.5,
          4.4,
          4.5,
          4.1,
          4.3,
          4.5,
          4.3,
          3.6,
          4.4,
          4.5,
          4.5,
          4.4,
          4.5,
          4.1,
          4.3,
          4.5,
          4.3,
          3.6,
          4.4,
          4.5,
          4.5,
          4.4,
          4.5,
          4.1,
          4.3,
          4.5,
          4.3,
          3.6,
          4.4,
          4.5,
          4.5,
          4.4,
          4.5,
          4.1,
          4.3,
          4.5,
          4.3,
          3.6,
          4.4,
          4.5,
          4.5,
          4.4,
          4.5,
          4.1,
          4.3,
          4.5,
          4.3,
          3.6,
          4.4,
          4.5,
          4.5,
          4.4,
          4.5,
          4.1,
          4.3,
          4.5,
          4.3,
          3.6,
          4.4,
          4.5,
          4.5,
          4.4,
          4.5,
          4.1,
          4.3,
          4.5,
          4.3,
          3.6,
          4.4,
          4.5,
          4.5,
          4.4,
          4.5,
          4.1,
          4.3,
          4.5,
          4.3,
          3.6,
          4.4,
          4.5,
          4.5,
          4.4,
          4.5,
          4.1,
          4.3,
          4.5,
          4.3,
          3.6,
          4.4,
          4.5,
          4.5,
          4.4,
          4.5,
          4.1,
          4.3,
          4.5,
          4.3,
          3.6,
          4.4,
          4.5,
          4.5,
          4.4,
          4.5,
          4.1,
          4.3,
          4.5,
          4.3,
          3.6,
          4.4,
          4.5,
          4.5,
          4.4,
          4.5,
          4.1,
          4.3,
          4.5,
          4.3,
          3.6,
          4.4,
          4.5,
          4.5,
          4.4,
          4.5,
          4.1,
          4.3,
          4.5,
          4.3,
          3.6,
          4.4,
          4.5,
          4.5,
          4.4,
          4.5,
          4.1,
          4.3,
          4.5,
          4.3,
          3.6,
          4.4,
          4.5,
          4.5,
          4.4,
          4.5,
          4.1,
          4.3,
          4.5,
          4.3,
          3.6,
          4.4,
          4.5,
          4.5,
          4.4,
          4.5,
          4.1,
          4.3,
          4.5,
          4.3,
          3.6,
          4.4,
          4.5,
          4.5,
          4.4,
          4.5,
          4.1,
          4.3,
          4.5,
          4.3,
          3.6,
          4.4,
          4.5,
          4.5,
          4.4,
          4.5,
          4.1,
          4.3,
          4.5,
          4.3,
          3.6,
          4.4,
          4.5,
          4.5,
          4.4,
          4.5,
          4.1,
          4.3,
          4.5,
          4.3,
          3.6,
          4.4,
          4.5,
          4.5,
          4.4,
          4.5,
          4.1,
          4.3,
          4.5,
          4.3,
          3.6,
          4.4,
          4.5,
          4.5,
          4.4,
          4.5,
          4.1,
          4.3,
          4.5,
          4.3,
          3.6,
          4.4,
          4.5,
          4.5,
          4.4,
          4.5,
          4.1,
          4.3,
          4.5,
          4.3,
          3.6,
          4.4,
          4.5,
          4.5,
          4.4,
          4.5,
          4.1,
          4.3,
          4.5,
          4.3,
          3.6,
          4.4,
          4.5,
          4.5,
          4.4,
          3.4,
          4.4,
          4.4,
          4.4,
          4.2,
          4.4,
          3.4,
          4.4,
          4.4,
          4.4,
          4.2,
          4.4,
          3.4,
          4.4,
          4.4,
          4.4,
          4.2,
          4.4,
          3.4,
          4.4,
          4.4,
          4.4,
          4.2,
          4.4,
          3.4,
          4.4,
          4.4,
          4.4,
          4.2,
          4.4,
          3.4,
          4.4,
          4.4,
          4.4,
          4.2,
          4.4,
          3.4,
          4.4,
          4.4,
          4.4,
          4.2,
          4.4,
          3.4,
          4.4,
          4.4,
          4.4,
          4.2,
          4.4,
          3.4,
          4.4,
          4.4,
          4.4,
          4.2,
          4.4,
          3.4,
          4.4,
          4.4,
          4.4,
          4.2,
          4.4,
          3.4,
          4.4,
          4.4,
          4.4,
          4.2,
          4.4,
          3.4,
          4.4,
          4.4,
          4.4,
          4.2,
          4.4,
          3.4,
          4.4,
          4.4,
          4.4,
          4.2,
          4.4,
          3.4,
          4.4,
          4.4,
          4.4,
          4.2,
          4.4,
          3.4,
          4.4,
          4.4,
          4.4,
          4.2,
          4.4,
          3.4,
          4.4,
          4.4,
          4.4,
          4.2,
          4.4,
          3.4,
          4.4,
          4.4,
          4.4,
          4.2,
          4.4,
          3.4,
          4.4,
          4.4,
          4.4,
          4.2,
          4.4,
          3.4,
          4.4,
          4.4,
          4.4,
          4.2,
          4.4,
          3.4,
          4.4,
          4.4,
          4.4,
          4.2,
          4.4,
          3.4,
          4.4,
          4.4,
          4.4,
          4.2,
          4.4,
          3.4,
          4.4,
          4.4,
          4.4,
          4.2,
          4.4,
          3.4,
          4.4,
          4.4,
          4.4,
          4.2,
          4.4,
          3.4,
          4.4,
          4.4,
          4.4,
          4.2,
          4.4,
          3.4,
          4.4,
          4.4,
          4.4,
          4.2,
          4.4,
          3.4,
          4.4,
          4.4,
          4.4,
          4.2,
          4.4,
          3.4,
          4.4,
          4.4,
          4.4,
          4.2,
          4.4,
          3.4,
          4.4,
          4.4,
          4.4,
          4.2,
          4.4,
          3.4,
          4.4,
          4.4,
          4.4,
          4.2,
          4.4,
          3.4,
          4.4,
          4.4,
          4.4,
          4.2,
          4.4,
          3.4,
          4.4,
          4.4,
          4.4,
          4.2,
          4.4,
          3.4,
          4.4,
          4.4,
          4.4,
          4.2,
          4.4,
          3.4,
          4.4,
          4.4,
          4.4,
          4.2,
          4.4,
          3.4,
          4.4,
          4.4,
          4.4,
          4.2,
          4.4,
          3.4,
          4.4,
          4.4,
          4.4,
          4.2,
          4.4,
          3.4,
          4.4,
          4.4,
          4.4,
          4.2,
          4.4,
          3.4,
          4.4,
          4.4,
          4.4,
          4.2,
          4.4,
          3.4,
          4.4,
          4.4,
          4.4,
          4.2,
          4.4,
          3.4,
          4.4,
          4.4,
          4.4,
          4.2,
          4.4,
          3.4,
          4.4,
          4.4,
          4.4,
          4.2,
          4.4,
          3.4,
          4.4,
          4.4,
          4.4,
          4.2,
          4.4,
          3.4,
          4.4,
          4.4,
          4.4,
          4.2,
          4.4,
          3.4,
          4.4,
          4.4,
          4.4,
          4.2,
          4.4,
          3.4,
          4.4,
          4.4,
          4.4,
          4.2,
          4.4,
          3.4,
          4.4,
          4.4,
          4.4,
          4.2,
          4.4,
          3.4,
          4.4,
          4.4,
          4.4,
          4.2,
          4.4,
          3.4,
          4.4,
          4.4,
          4.4,
          4.2,
          4.4,
          3.4,
          4.4,
          4.4,
          4.4,
          4.2,
          4.4,
          3.4,
          4.4,
          4.4,
          4.4,
          4.2,
          4.4,
          3.4,
          4.4,
          4.4,
          4.4,
          4.2,
          4.4,
          3.4,
          4.4,
          4.4,
          4.4,
          4.2,
          4.4,
          3.4,
          4.4,
          4.4,
          4.4,
          4.2,
          4.4,
          3.4,
          4.4,
          4.4,
          4.4,
          4.2,
          4.4,
          3.4,
          4.4,
          4.4,
          4.4,
          4.2,
          4.4,
          3.4,
          4.4,
          4.4,
          4.4,
          4.2
         ],
         "legendgroup": "",
         "name": "",
         "showlegend": true,
         "type": "pie"
        }
       ],
       "layout": {
        "autosize": true,
        "legend": {
         "tracegroupgap": 0
        },
        "margin": {
         "t": 60
        },
        "template": {
         "data": {
          "bar": [
           {
            "error_x": {
             "color": "#2a3f5f"
            },
            "error_y": {
             "color": "#2a3f5f"
            },
            "marker": {
             "line": {
              "color": "#E5ECF6",
              "width": 0.5
             },
             "pattern": {
              "fillmode": "overlay",
              "size": 10,
              "solidity": 0.2
             }
            },
            "type": "bar"
           }
          ],
          "barpolar": [
           {
            "marker": {
             "line": {
              "color": "#E5ECF6",
              "width": 0.5
             },
             "pattern": {
              "fillmode": "overlay",
              "size": 10,
              "solidity": 0.2
             }
            },
            "type": "barpolar"
           }
          ],
          "carpet": [
           {
            "aaxis": {
             "endlinecolor": "#2a3f5f",
             "gridcolor": "white",
             "linecolor": "white",
             "minorgridcolor": "white",
             "startlinecolor": "#2a3f5f"
            },
            "baxis": {
             "endlinecolor": "#2a3f5f",
             "gridcolor": "white",
             "linecolor": "white",
             "minorgridcolor": "white",
             "startlinecolor": "#2a3f5f"
            },
            "type": "carpet"
           }
          ],
          "choropleth": [
           {
            "colorbar": {
             "outlinewidth": 0,
             "ticks": ""
            },
            "type": "choropleth"
           }
          ],
          "contour": [
           {
            "colorbar": {
             "outlinewidth": 0,
             "ticks": ""
            },
            "colorscale": [
             [
              0,
              "#0d0887"
             ],
             [
              0.1111111111111111,
              "#46039f"
             ],
             [
              0.2222222222222222,
              "#7201a8"
             ],
             [
              0.3333333333333333,
              "#9c179e"
             ],
             [
              0.4444444444444444,
              "#bd3786"
             ],
             [
              0.5555555555555556,
              "#d8576b"
             ],
             [
              0.6666666666666666,
              "#ed7953"
             ],
             [
              0.7777777777777778,
              "#fb9f3a"
             ],
             [
              0.8888888888888888,
              "#fdca26"
             ],
             [
              1,
              "#f0f921"
             ]
            ],
            "type": "contour"
           }
          ],
          "contourcarpet": [
           {
            "colorbar": {
             "outlinewidth": 0,
             "ticks": ""
            },
            "type": "contourcarpet"
           }
          ],
          "heatmap": [
           {
            "colorbar": {
             "outlinewidth": 0,
             "ticks": ""
            },
            "colorscale": [
             [
              0,
              "#0d0887"
             ],
             [
              0.1111111111111111,
              "#46039f"
             ],
             [
              0.2222222222222222,
              "#7201a8"
             ],
             [
              0.3333333333333333,
              "#9c179e"
             ],
             [
              0.4444444444444444,
              "#bd3786"
             ],
             [
              0.5555555555555556,
              "#d8576b"
             ],
             [
              0.6666666666666666,
              "#ed7953"
             ],
             [
              0.7777777777777778,
              "#fb9f3a"
             ],
             [
              0.8888888888888888,
              "#fdca26"
             ],
             [
              1,
              "#f0f921"
             ]
            ],
            "type": "heatmap"
           }
          ],
          "heatmapgl": [
           {
            "colorbar": {
             "outlinewidth": 0,
             "ticks": ""
            },
            "colorscale": [
             [
              0,
              "#0d0887"
             ],
             [
              0.1111111111111111,
              "#46039f"
             ],
             [
              0.2222222222222222,
              "#7201a8"
             ],
             [
              0.3333333333333333,
              "#9c179e"
             ],
             [
              0.4444444444444444,
              "#bd3786"
             ],
             [
              0.5555555555555556,
              "#d8576b"
             ],
             [
              0.6666666666666666,
              "#ed7953"
             ],
             [
              0.7777777777777778,
              "#fb9f3a"
             ],
             [
              0.8888888888888888,
              "#fdca26"
             ],
             [
              1,
              "#f0f921"
             ]
            ],
            "type": "heatmapgl"
           }
          ],
          "histogram": [
           {
            "marker": {
             "pattern": {
              "fillmode": "overlay",
              "size": 10,
              "solidity": 0.2
             }
            },
            "type": "histogram"
           }
          ],
          "histogram2d": [
           {
            "colorbar": {
             "outlinewidth": 0,
             "ticks": ""
            },
            "colorscale": [
             [
              0,
              "#0d0887"
             ],
             [
              0.1111111111111111,
              "#46039f"
             ],
             [
              0.2222222222222222,
              "#7201a8"
             ],
             [
              0.3333333333333333,
              "#9c179e"
             ],
             [
              0.4444444444444444,
              "#bd3786"
             ],
             [
              0.5555555555555556,
              "#d8576b"
             ],
             [
              0.6666666666666666,
              "#ed7953"
             ],
             [
              0.7777777777777778,
              "#fb9f3a"
             ],
             [
              0.8888888888888888,
              "#fdca26"
             ],
             [
              1,
              "#f0f921"
             ]
            ],
            "type": "histogram2d"
           }
          ],
          "histogram2dcontour": [
           {
            "colorbar": {
             "outlinewidth": 0,
             "ticks": ""
            },
            "colorscale": [
             [
              0,
              "#0d0887"
             ],
             [
              0.1111111111111111,
              "#46039f"
             ],
             [
              0.2222222222222222,
              "#7201a8"
             ],
             [
              0.3333333333333333,
              "#9c179e"
             ],
             [
              0.4444444444444444,
              "#bd3786"
             ],
             [
              0.5555555555555556,
              "#d8576b"
             ],
             [
              0.6666666666666666,
              "#ed7953"
             ],
             [
              0.7777777777777778,
              "#fb9f3a"
             ],
             [
              0.8888888888888888,
              "#fdca26"
             ],
             [
              1,
              "#f0f921"
             ]
            ],
            "type": "histogram2dcontour"
           }
          ],
          "mesh3d": [
           {
            "colorbar": {
             "outlinewidth": 0,
             "ticks": ""
            },
            "type": "mesh3d"
           }
          ],
          "parcoords": [
           {
            "line": {
             "colorbar": {
              "outlinewidth": 0,
              "ticks": ""
             }
            },
            "type": "parcoords"
           }
          ],
          "pie": [
           {
            "automargin": true,
            "type": "pie"
           }
          ],
          "scatter": [
           {
            "fillpattern": {
             "fillmode": "overlay",
             "size": 10,
             "solidity": 0.2
            },
            "type": "scatter"
           }
          ],
          "scatter3d": [
           {
            "line": {
             "colorbar": {
              "outlinewidth": 0,
              "ticks": ""
             }
            },
            "marker": {
             "colorbar": {
              "outlinewidth": 0,
              "ticks": ""
             }
            },
            "type": "scatter3d"
           }
          ],
          "scattercarpet": [
           {
            "marker": {
             "colorbar": {
              "outlinewidth": 0,
              "ticks": ""
             }
            },
            "type": "scattercarpet"
           }
          ],
          "scattergeo": [
           {
            "marker": {
             "colorbar": {
              "outlinewidth": 0,
              "ticks": ""
             }
            },
            "type": "scattergeo"
           }
          ],
          "scattergl": [
           {
            "marker": {
             "colorbar": {
              "outlinewidth": 0,
              "ticks": ""
             }
            },
            "type": "scattergl"
           }
          ],
          "scattermapbox": [
           {
            "marker": {
             "colorbar": {
              "outlinewidth": 0,
              "ticks": ""
             }
            },
            "type": "scattermapbox"
           }
          ],
          "scatterpolar": [
           {
            "marker": {
             "colorbar": {
              "outlinewidth": 0,
              "ticks": ""
             }
            },
            "type": "scatterpolar"
           }
          ],
          "scatterpolargl": [
           {
            "marker": {
             "colorbar": {
              "outlinewidth": 0,
              "ticks": ""
             }
            },
            "type": "scatterpolargl"
           }
          ],
          "scatterternary": [
           {
            "marker": {
             "colorbar": {
              "outlinewidth": 0,
              "ticks": ""
             }
            },
            "type": "scatterternary"
           }
          ],
          "surface": [
           {
            "colorbar": {
             "outlinewidth": 0,
             "ticks": ""
            },
            "colorscale": [
             [
              0,
              "#0d0887"
             ],
             [
              0.1111111111111111,
              "#46039f"
             ],
             [
              0.2222222222222222,
              "#7201a8"
             ],
             [
              0.3333333333333333,
              "#9c179e"
             ],
             [
              0.4444444444444444,
              "#bd3786"
             ],
             [
              0.5555555555555556,
              "#d8576b"
             ],
             [
              0.6666666666666666,
              "#ed7953"
             ],
             [
              0.7777777777777778,
              "#fb9f3a"
             ],
             [
              0.8888888888888888,
              "#fdca26"
             ],
             [
              1,
              "#f0f921"
             ]
            ],
            "type": "surface"
           }
          ],
          "table": [
           {
            "cells": {
             "fill": {
              "color": "#EBF0F8"
             },
             "line": {
              "color": "white"
             }
            },
            "header": {
             "fill": {
              "color": "#C8D4E3"
             },
             "line": {
              "color": "white"
             }
            },
            "type": "table"
           }
          ]
         },
         "layout": {
          "annotationdefaults": {
           "arrowcolor": "#2a3f5f",
           "arrowhead": 0,
           "arrowwidth": 1
          },
          "autotypenumbers": "strict",
          "coloraxis": {
           "colorbar": {
            "outlinewidth": 0,
            "ticks": ""
           }
          },
          "colorscale": {
           "diverging": [
            [
             0,
             "#8e0152"
            ],
            [
             0.1,
             "#c51b7d"
            ],
            [
             0.2,
             "#de77ae"
            ],
            [
             0.3,
             "#f1b6da"
            ],
            [
             0.4,
             "#fde0ef"
            ],
            [
             0.5,
             "#f7f7f7"
            ],
            [
             0.6,
             "#e6f5d0"
            ],
            [
             0.7,
             "#b8e186"
            ],
            [
             0.8,
             "#7fbc41"
            ],
            [
             0.9,
             "#4d9221"
            ],
            [
             1,
             "#276419"
            ]
           ],
           "sequential": [
            [
             0,
             "#0d0887"
            ],
            [
             0.1111111111111111,
             "#46039f"
            ],
            [
             0.2222222222222222,
             "#7201a8"
            ],
            [
             0.3333333333333333,
             "#9c179e"
            ],
            [
             0.4444444444444444,
             "#bd3786"
            ],
            [
             0.5555555555555556,
             "#d8576b"
            ],
            [
             0.6666666666666666,
             "#ed7953"
            ],
            [
             0.7777777777777778,
             "#fb9f3a"
            ],
            [
             0.8888888888888888,
             "#fdca26"
            ],
            [
             1,
             "#f0f921"
            ]
           ],
           "sequentialminus": [
            [
             0,
             "#0d0887"
            ],
            [
             0.1111111111111111,
             "#46039f"
            ],
            [
             0.2222222222222222,
             "#7201a8"
            ],
            [
             0.3333333333333333,
             "#9c179e"
            ],
            [
             0.4444444444444444,
             "#bd3786"
            ],
            [
             0.5555555555555556,
             "#d8576b"
            ],
            [
             0.6666666666666666,
             "#ed7953"
            ],
            [
             0.7777777777777778,
             "#fb9f3a"
            ],
            [
             0.8888888888888888,
             "#fdca26"
            ],
            [
             1,
             "#f0f921"
            ]
           ]
          },
          "colorway": [
           "#636efa",
           "#EF553B",
           "#00cc96",
           "#ab63fa",
           "#FFA15A",
           "#19d3f3",
           "#FF6692",
           "#B6E880",
           "#FF97FF",
           "#FECB52"
          ],
          "font": {
           "color": "#2a3f5f"
          },
          "geo": {
           "bgcolor": "white",
           "lakecolor": "white",
           "landcolor": "#E5ECF6",
           "showlakes": true,
           "showland": true,
           "subunitcolor": "white"
          },
          "hoverlabel": {
           "align": "left"
          },
          "hovermode": "closest",
          "mapbox": {
           "style": "light"
          },
          "paper_bgcolor": "white",
          "plot_bgcolor": "#E5ECF6",
          "polar": {
           "angularaxis": {
            "gridcolor": "white",
            "linecolor": "white",
            "ticks": ""
           },
           "bgcolor": "#E5ECF6",
           "radialaxis": {
            "gridcolor": "white",
            "linecolor": "white",
            "ticks": ""
           }
          },
          "scene": {
           "xaxis": {
            "backgroundcolor": "#E5ECF6",
            "gridcolor": "white",
            "gridwidth": 2,
            "linecolor": "white",
            "showbackground": true,
            "ticks": "",
            "zerolinecolor": "white"
           },
           "yaxis": {
            "backgroundcolor": "#E5ECF6",
            "gridcolor": "white",
            "gridwidth": 2,
            "linecolor": "white",
            "showbackground": true,
            "ticks": "",
            "zerolinecolor": "white"
           },
           "zaxis": {
            "backgroundcolor": "#E5ECF6",
            "gridcolor": "white",
            "gridwidth": 2,
            "linecolor": "white",
            "showbackground": true,
            "ticks": "",
            "zerolinecolor": "white"
           }
          },
          "shapedefaults": {
           "line": {
            "color": "#2a3f5f"
           }
          },
          "ternary": {
           "aaxis": {
            "gridcolor": "white",
            "linecolor": "white",
            "ticks": ""
           },
           "baxis": {
            "gridcolor": "white",
            "linecolor": "white",
            "ticks": ""
           },
           "bgcolor": "#E5ECF6",
           "caxis": {
            "gridcolor": "white",
            "linecolor": "white",
            "ticks": ""
           }
          },
          "title": {
           "x": 0.05
          },
          "xaxis": {
           "automargin": true,
           "gridcolor": "white",
           "linecolor": "white",
           "ticks": "",
           "title": {
            "standoff": 15
           },
           "zerolinecolor": "white",
           "zerolinewidth": 2
          },
          "yaxis": {
           "automargin": true,
           "gridcolor": "white",
           "linecolor": "white",
           "ticks": "",
           "title": {
            "standoff": 15
           },
           "zerolinecolor": "white",
           "zerolinewidth": 2
          }
         }
        }
       }
      },
      "image/png": "[encoded data removed]",
      "text/html": [
       "<div>                            <div id=\"f178df50-3400-4d7c-be8a-badf04bf8dda\" class=\"plotly-graph-div\" style=\"height:525px; width:100%;\"></div>            <script type=\"text/javascript\">                require([\"plotly\"], function(Plotly) {                    window.PLOTLYENV=window.PLOTLYENV || {};                                    if (document.getElementById(\"f178df50-3400-4d7c-be8a-badf04bf8dda\")) {                    Plotly.newPlot(                        \"f178df50-3400-4d7c-be8a-badf04bf8dda\",                        [{\"domain\":{\"x\":[0.0,1.0],\"y\":[0.0,1.0]},\"hovertemplate\":\"Rating=%{label}\\u003cextra\\u003e\\u003c\\u002fextra\\u003e\",\"labels\":[4.4,4.5,4.1,4.3,4.5,4.3,3.6,4.4,4.5,4.5,4.4,4.5,4.1,4.3,4.5,4.3,3.6,4.4,4.5,4.5,4.4,4.5,4.1,4.3,4.5,4.3,3.6,4.4,4.5,4.5,4.4,4.5,4.1,4.3,4.5,4.3,3.6,4.4,4.5,4.5,4.4,4.5,4.1,4.3,4.5,4.3,3.6,4.4,4.5,4.5,4.4,4.5,4.1,4.3,4.5,4.3,3.6,4.4,4.5,4.5,4.4,4.5,4.1,4.3,4.5,4.3,3.6,4.4,4.5,4.5,4.4,4.5,4.1,4.3,4.5,4.3,3.6,4.4,4.5,4.5,4.4,4.5,4.1,4.3,4.5,4.3,3.6,4.4,4.5,4.5,4.4,4.5,4.1,4.3,4.5,4.3,3.6,4.4,4.5,4.5,4.4,4.5,4.1,4.3,4.5,4.3,3.6,4.4,4.5,4.5,4.4,4.5,4.1,4.3,4.5,4.3,3.6,4.4,4.5,4.5,4.4,4.5,4.1,4.3,4.5,4.3,3.6,4.4,4.5,4.5,4.4,4.5,4.1,4.3,4.5,4.3,3.6,4.4,4.5,4.5,4.4,4.5,4.1,4.3,4.5,4.3,3.6,4.4,4.5,4.5,4.4,4.5,4.1,4.3,4.5,4.3,3.6,4.4,4.5,4.5,4.4,4.5,4.1,4.3,4.5,4.3,3.6,4.4,4.5,4.5,4.4,4.5,4.1,4.3,4.5,4.3,3.6,4.4,4.5,4.5,4.4,4.5,4.1,4.3,4.5,4.3,3.6,4.4,4.5,4.5,4.4,4.5,4.1,4.3,4.5,4.3,3.6,4.4,4.5,4.5,4.4,4.5,4.1,4.3,4.5,4.3,3.6,4.4,4.5,4.5,4.4,4.5,4.1,4.3,4.5,4.3,3.6,4.4,4.5,4.5,4.4,4.5,4.1,4.3,4.5,4.3,3.6,4.4,4.5,4.5,4.4,4.5,4.1,4.3,4.5,4.3,3.6,4.4,4.5,4.5,4.4,4.5,4.1,4.3,4.5,4.3,3.6,4.4,4.5,4.5,4.4,4.5,4.1,4.3,4.5,4.3,3.6,4.4,4.5,4.5,4.4,4.5,4.1,4.3,4.5,4.3,3.6,4.4,4.5,4.5,4.4,4.5,4.1,4.3,4.5,4.3,3.6,4.4,4.5,4.5,4.4,4.5,4.1,4.3,4.5,4.3,3.6,4.4,4.5,4.5,4.4,4.5,4.1,4.3,4.5,4.3,3.6,4.4,4.5,4.5,4.4,4.5,4.1,4.3,4.5,4.3,3.6,4.4,4.5,4.5,4.4,4.5,4.1,4.3,4.5,4.3,3.6,4.4,4.5,4.5,4.4,4.5,4.1,4.3,4.5,4.3,3.6,4.4,4.5,4.5,4.4,4.5,4.1,4.3,4.5,4.3,3.6,4.4,4.5,4.5,4.4,4.5,4.1,4.3,4.5,4.3,3.6,4.4,4.5,4.5,4.4,4.5,4.1,4.3,4.5,4.3,3.6,4.4,4.5,4.5,4.4,4.5,4.1,4.3,4.5,4.3,3.6,4.4,4.5,4.5,4.4,4.5,4.1,4.3,4.5,4.3,3.6,4.4,4.5,4.5,4.4,4.5,4.1,4.3,4.5,4.3,3.6,4.4,4.5,4.5,4.4,4.5,4.1,4.3,4.5,4.3,3.6,4.4,4.5,4.5,4.4,4.5,4.1,4.3,4.5,4.3,3.6,4.4,4.5,4.5,4.4,4.5,4.1,4.3,4.5,4.3,3.6,4.4,4.5,4.5,4.4,4.5,4.1,4.3,4.5,4.3,3.6,4.4,4.5,4.5,4.4,4.5,4.1,4.3,4.5,4.3,3.6,4.4,4.5,4.5,4.4,4.5,4.1,4.3,4.5,4.3,3.6,4.4,4.5,4.5,4.4,4.5,4.1,4.3,4.5,4.3,3.6,4.4,4.5,4.5,4.4,4.5,4.1,4.3,4.5,4.3,3.6,4.4,4.5,4.5,4.4,4.5,4.1,4.3,4.5,4.3,3.6,4.4,4.5,4.5,4.4,4.5,4.1,4.3,4.5,4.3,3.6,4.4,4.5,4.5,4.4,4.5,4.1,4.3,4.5,4.3,3.6,4.4,4.5,4.5,4.4,4.5,4.1,4.3,4.5,4.3,3.6,4.4,4.5,4.5,4.4,4.5,4.1,4.3,4.5,4.3,3.6,4.4,4.5,4.5,4.4,4.5,4.1,4.3,4.5,4.3,3.6,4.4,4.5,4.5,4.4,4.5,4.1,4.3,4.5,4.3,3.6,4.4,4.5,4.5,4.4,4.5,4.1,4.3,4.5,4.3,3.6,4.4,4.5,4.5,4.4,4.5,4.1,4.3,4.5,4.3,3.6,4.4,4.5,4.5,4.4,4.5,4.1,4.3,4.5,4.3,3.6,4.4,4.5,4.5,4.4,4.5,4.1,4.3,4.5,4.3,3.6,4.4,4.5,4.5,4.4,4.5,4.1,4.3,4.5,4.3,3.6,4.4,4.5,4.5,4.4,4.5,4.1,4.3,4.5,4.3,3.6,4.4,4.5,4.5,4.4,4.5,4.1,4.3,4.5,4.3,3.6,4.4,4.5,4.5,4.4,4.5,4.1,4.3,4.5,4.3,3.6,4.4,4.5,4.5,4.4,4.5,4.1,4.3,4.5,4.3,3.6,4.4,4.5,4.5,4.4,4.5,4.1,4.3,4.5,4.3,3.6,4.4,4.5,4.5,4.4,4.5,4.1,4.3,4.5,4.3,3.6,4.4,4.5,4.5,4.4,4.5,4.1,4.3,4.5,4.3,3.6,4.4,4.5,4.5,4.4,4.5,4.1,4.3,4.5,4.3,3.6,4.4,4.5,4.5,4.4,4.5,4.1,4.3,4.5,4.3,3.6,4.4,4.5,4.5,4.4,4.5,4.1,4.3,4.5,4.3,3.6,4.4,4.5,4.5,4.4,4.5,4.1,4.3,4.5,4.3,3.6,4.4,4.5,4.5,4.4,4.5,4.1,4.3,4.5,4.3,3.6,4.4,4.5,4.5,4.4,4.5,4.1,4.3,4.5,4.3,3.6,4.4,4.5,4.5,4.4,3.4,4.4,4.4,4.4,4.2,4.4,3.4,4.4,4.4,4.4,4.2,4.4,3.4,4.4,4.4,4.4,4.2,4.4,3.4,4.4,4.4,4.4,4.2,4.4,3.4,4.4,4.4,4.4,4.2,4.4,3.4,4.4,4.4,4.4,4.2,4.4,3.4,4.4,4.4,4.4,4.2,4.4,3.4,4.4,4.4,4.4,4.2,4.4,3.4,4.4,4.4,4.4,4.2,4.4,3.4,4.4,4.4,4.4,4.2,4.4,3.4,4.4,4.4,4.4,4.2,4.4,3.4,4.4,4.4,4.4,4.2,4.4,3.4,4.4,4.4,4.4,4.2,4.4,3.4,4.4,4.4,4.4,4.2,4.4,3.4,4.4,4.4,4.4,4.2,4.4,3.4,4.4,4.4,4.4,4.2,4.4,3.4,4.4,4.4,4.4,4.2,4.4,3.4,4.4,4.4,4.4,4.2,4.4,3.4,4.4,4.4,4.4,4.2,4.4,3.4,4.4,4.4,4.4,4.2,4.4,3.4,4.4,4.4,4.4,4.2,4.4,3.4,4.4,4.4,4.4,4.2,4.4,3.4,4.4,4.4,4.4,4.2,4.4,3.4,4.4,4.4,4.4,4.2,4.4,3.4,4.4,4.4,4.4,4.2,4.4,3.4,4.4,4.4,4.4,4.2,4.4,3.4,4.4,4.4,4.4,4.2,4.4,3.4,4.4,4.4,4.4,4.2,4.4,3.4,4.4,4.4,4.4,4.2,4.4,3.4,4.4,4.4,4.4,4.2,4.4,3.4,4.4,4.4,4.4,4.2,4.4,3.4,4.4,4.4,4.4,4.2,4.4,3.4,4.4,4.4,4.4,4.2,4.4,3.4,4.4,4.4,4.4,4.2,4.4,3.4,4.4,4.4,4.4,4.2,4.4,3.4,4.4,4.4,4.4,4.2,4.4,3.4,4.4,4.4,4.4,4.2,4.4,3.4,4.4,4.4,4.4,4.2,4.4,3.4,4.4,4.4,4.4,4.2,4.4,3.4,4.4,4.4,4.4,4.2,4.4,3.4,4.4,4.4,4.4,4.2,4.4,3.4,4.4,4.4,4.4,4.2,4.4,3.4,4.4,4.4,4.4,4.2,4.4,3.4,4.4,4.4,4.4,4.2,4.4,3.4,4.4,4.4,4.4,4.2,4.4,3.4,4.4,4.4,4.4,4.2,4.4,3.4,4.4,4.4,4.4,4.2,4.4,3.4,4.4,4.4,4.4,4.2,4.4,3.4,4.4,4.4,4.4,4.2,4.4,3.4,4.4,4.4,4.4,4.2,4.4,3.4,4.4,4.4,4.4,4.2,4.4,3.4,4.4,4.4,4.4,4.2,4.4,3.4,4.4,4.4,4.4,4.2,4.4,3.4,4.4,4.4,4.4,4.2,4.4,3.4,4.4,4.4,4.4,4.2],\"legendgroup\":\"\",\"name\":\"\",\"showlegend\":true,\"type\":\"pie\"}],                        {\"template\":{\"data\":{\"histogram2dcontour\":[{\"type\":\"histogram2dcontour\",\"colorbar\":{\"outlinewidth\":0,\"ticks\":\"\"},\"colorscale\":[[0.0,\"#0d0887\"],[0.1111111111111111,\"#46039f\"],[0.2222222222222222,\"#7201a8\"],[0.3333333333333333,\"#9c179e\"],[0.4444444444444444,\"#bd3786\"],[0.5555555555555556,\"#d8576b\"],[0.6666666666666666,\"#ed7953\"],[0.7777777777777778,\"#fb9f3a\"],[0.8888888888888888,\"#fdca26\"],[1.0,\"#f0f921\"]]}],\"choropleth\":[{\"type\":\"choropleth\",\"colorbar\":{\"outlinewidth\":0,\"ticks\":\"\"}}],\"histogram2d\":[{\"type\":\"histogram2d\",\"colorbar\":{\"outlinewidth\":0,\"ticks\":\"\"},\"colorscale\":[[0.0,\"#0d0887\"],[0.1111111111111111,\"#46039f\"],[0.2222222222222222,\"#7201a8\"],[0.3333333333333333,\"#9c179e\"],[0.4444444444444444,\"#bd3786\"],[0.5555555555555556,\"#d8576b\"],[0.6666666666666666,\"#ed7953\"],[0.7777777777777778,\"#fb9f3a\"],[0.8888888888888888,\"#fdca26\"],[1.0,\"#f0f921\"]]}],\"heatmap\":[{\"type\":\"heatmap\",\"colorbar\":{\"outlinewidth\":0,\"ticks\":\"\"},\"colorscale\":[[0.0,\"#0d0887\"],[0.1111111111111111,\"#46039f\"],[0.2222222222222222,\"#7201a8\"],[0.3333333333333333,\"#9c179e\"],[0.4444444444444444,\"#bd3786\"],[0.5555555555555556,\"#d8576b\"],[0.6666666666666666,\"#ed7953\"],[0.7777777777777778,\"#fb9f3a\"],[0.8888888888888888,\"#fdca26\"],[1.0,\"#f0f921\"]]}],\"heatmapgl\":[{\"type\":\"heatmapgl\",\"colorbar\":{\"outlinewidth\":0,\"ticks\":\"\"},\"colorscale\":[[0.0,\"#0d0887\"],[0.1111111111111111,\"#46039f\"],[0.2222222222222222,\"#7201a8\"],[0.3333333333333333,\"#9c179e\"],[0.4444444444444444,\"#bd3786\"],[0.5555555555555556,\"#d8576b\"],[0.6666666666666666,\"#ed7953\"],[0.7777777777777778,\"#fb9f3a\"],[0.8888888888888888,\"#fdca26\"],[1.0,\"#f0f921\"]]}],\"contourcarpet\":[{\"type\":\"contourcarpet\",\"colorbar\":{\"outlinewidth\":0,\"ticks\":\"\"}}],\"contour\":[{\"type\":\"contour\",\"colorbar\":{\"outlinewidth\":0,\"ticks\":\"\"},\"colorscale\":[[0.0,\"#0d0887\"],[0.1111111111111111,\"#46039f\"],[0.2222222222222222,\"#7201a8\"],[0.3333333333333333,\"#9c179e\"],[0.4444444444444444,\"#bd3786\"],[0.5555555555555556,\"#d8576b\"],[0.6666666666666666,\"#ed7953\"],[0.7777777777777778,\"#fb9f3a\"],[0.8888888888888888,\"#fdca26\"],[1.0,\"#f0f921\"]]}],\"surface\":[{\"type\":\"surface\",\"colorbar\":{\"outlinewidth\":0,\"ticks\":\"\"},\"colorscale\":[[0.0,\"#0d0887\"],[0.1111111111111111,\"#46039f\"],[0.2222222222222222,\"#7201a8\"],[0.3333333333333333,\"#9c179e\"],[0.4444444444444444,\"#bd3786\"],[0.5555555555555556,\"#d8576b\"],[0.6666666666666666,\"#ed7953\"],[0.7777777777777778,\"#fb9f3a\"],[0.8888888888888888,\"#fdca26\"],[1.0,\"#f0f921\"]]}],\"mesh3d\":[{\"type\":\"mesh3d\",\"colorbar\":{\"outlinewidth\":0,\"ticks\":\"\"}}],\"scatter\":[{\"fillpattern\":{\"fillmode\":\"overlay\",\"size\":10,\"solidity\":0.2},\"type\":\"scatter\"}],\"parcoords\":[{\"type\":\"parcoords\",\"line\":{\"colorbar\":{\"outlinewidth\":0,\"ticks\":\"\"}}}],\"scatterpolargl\":[{\"type\":\"scatterpolargl\",\"marker\":{\"colorbar\":{\"outlinewidth\":0,\"ticks\":\"\"}}}],\"bar\":[{\"error_x\":{\"color\":\"#2a3f5f\"},\"error_y\":{\"color\":\"#2a3f5f\"},\"marker\":{\"line\":{\"color\":\"#E5ECF6\",\"width\":0.5},\"pattern\":{\"fillmode\":\"overlay\",\"size\":10,\"solidity\":0.2}},\"type\":\"bar\"}],\"scattergeo\":[{\"type\":\"scattergeo\",\"marker\":{\"colorbar\":{\"outlinewidth\":0,\"ticks\":\"\"}}}],\"scatterpolar\":[{\"type\":\"scatterpolar\",\"marker\":{\"colorbar\":{\"outlinewidth\":0,\"ticks\":\"\"}}}],\"histogram\":[{\"marker\":{\"pattern\":{\"fillmode\":\"overlay\",\"size\":10,\"solidity\":0.2}},\"type\":\"histogram\"}],\"scattergl\":[{\"type\":\"scattergl\",\"marker\":{\"colorbar\":{\"outlinewidth\":0,\"ticks\":\"\"}}}],\"scatter3d\":[{\"type\":\"scatter3d\",\"line\":{\"colorbar\":{\"outlinewidth\":0,\"ticks\":\"\"}},\"marker\":{\"colorbar\":{\"outlinewidth\":0,\"ticks\":\"\"}}}],\"scattermapbox\":[{\"type\":\"scattermapbox\",\"marker\":{\"colorbar\":{\"outlinewidth\":0,\"ticks\":\"\"}}}],\"scatterternary\":[{\"type\":\"scatterternary\",\"marker\":{\"colorbar\":{\"outlinewidth\":0,\"ticks\":\"\"}}}],\"scattercarpet\":[{\"type\":\"scattercarpet\",\"marker\":{\"colorbar\":{\"outlinewidth\":0,\"ticks\":\"\"}}}],\"carpet\":[{\"aaxis\":{\"endlinecolor\":\"#2a3f5f\",\"gridcolor\":\"white\",\"linecolor\":\"white\",\"minorgridcolor\":\"white\",\"startlinecolor\":\"#2a3f5f\"},\"baxis\":{\"endlinecolor\":\"#2a3f5f\",\"gridcolor\":\"white\",\"linecolor\":\"white\",\"minorgridcolor\":\"white\",\"startlinecolor\":\"#2a3f5f\"},\"type\":\"carpet\"}],\"table\":[{\"cells\":{\"fill\":{\"color\":\"#EBF0F8\"},\"line\":{\"color\":\"white\"}},\"header\":{\"fill\":{\"color\":\"#C8D4E3\"},\"line\":{\"color\":\"white\"}},\"type\":\"table\"}],\"barpolar\":[{\"marker\":{\"line\":{\"color\":\"#E5ECF6\",\"width\":0.5},\"pattern\":{\"fillmode\":\"overlay\",\"size\":10,\"solidity\":0.2}},\"type\":\"barpolar\"}],\"pie\":[{\"automargin\":true,\"type\":\"pie\"}]},\"layout\":{\"autotypenumbers\":\"strict\",\"colorway\":[\"#636efa\",\"#EF553B\",\"#00cc96\",\"#ab63fa\",\"#FFA15A\",\"#19d3f3\",\"#FF6692\",\"#B6E880\",\"#FF97FF\",\"#FECB52\"],\"font\":{\"color\":\"#2a3f5f\"},\"hovermode\":\"closest\",\"hoverlabel\":{\"align\":\"left\"},\"paper_bgcolor\":\"white\",\"plot_bgcolor\":\"#E5ECF6\",\"polar\":{\"bgcolor\":\"#E5ECF6\",\"angularaxis\":{\"gridcolor\":\"white\",\"linecolor\":\"white\",\"ticks\":\"\"},\"radialaxis\":{\"gridcolor\":\"white\",\"linecolor\":\"white\",\"ticks\":\"\"}},\"ternary\":{\"bgcolor\":\"#E5ECF6\",\"aaxis\":{\"gridcolor\":\"white\",\"linecolor\":\"white\",\"ticks\":\"\"},\"baxis\":{\"gridcolor\":\"white\",\"linecolor\":\"white\",\"ticks\":\"\"},\"caxis\":{\"gridcolor\":\"white\",\"linecolor\":\"white\",\"ticks\":\"\"}},\"coloraxis\":{\"colorbar\":{\"outlinewidth\":0,\"ticks\":\"\"}},\"colorscale\":{\"sequential\":[[0.0,\"#0d0887\"],[0.1111111111111111,\"#46039f\"],[0.2222222222222222,\"#7201a8\"],[0.3333333333333333,\"#9c179e\"],[0.4444444444444444,\"#bd3786\"],[0.5555555555555556,\"#d8576b\"],[0.6666666666666666,\"#ed7953\"],[0.7777777777777778,\"#fb9f3a\"],[0.8888888888888888,\"#fdca26\"],[1.0,\"#f0f921\"]],\"sequentialminus\":[[0.0,\"#0d0887\"],[0.1111111111111111,\"#46039f\"],[0.2222222222222222,\"#7201a8\"],[0.3333333333333333,\"#9c179e\"],[0.4444444444444444,\"#bd3786\"],[0.5555555555555556,\"#d8576b\"],[0.6666666666666666,\"#ed7953\"],[0.7777777777777778,\"#fb9f3a\"],[0.8888888888888888,\"#fdca26\"],[1.0,\"#f0f921\"]],\"diverging\":[[0,\"#8e0152\"],[0.1,\"#c51b7d\"],[0.2,\"#de77ae\"],[0.3,\"#f1b6da\"],[0.4,\"#fde0ef\"],[0.5,\"#f7f7f7\"],[0.6,\"#e6f5d0\"],[0.7,\"#b8e186\"],[0.8,\"#7fbc41\"],[0.9,\"#4d9221\"],[1,\"#276419\"]]},\"xaxis\":{\"gridcolor\":\"white\",\"linecolor\":\"white\",\"ticks\":\"\",\"title\":{\"standoff\":15},\"zerolinecolor\":\"white\",\"automargin\":true,\"zerolinewidth\":2},\"yaxis\":{\"gridcolor\":\"white\",\"linecolor\":\"white\",\"ticks\":\"\",\"title\":{\"standoff\":15},\"zerolinecolor\":\"white\",\"automargin\":true,\"zerolinewidth\":2},\"scene\":{\"xaxis\":{\"backgroundcolor\":\"#E5ECF6\",\"gridcolor\":\"white\",\"linecolor\":\"white\",\"showbackground\":true,\"ticks\":\"\",\"zerolinecolor\":\"white\",\"gridwidth\":2},\"yaxis\":{\"backgroundcolor\":\"#E5ECF6\",\"gridcolor\":\"white\",\"linecolor\":\"white\",\"showbackground\":true,\"ticks\":\"\",\"zerolinecolor\":\"white\",\"gridwidth\":2},\"zaxis\":{\"backgroundcolor\":\"#E5ECF6\",\"gridcolor\":\"white\",\"linecolor\":\"white\",\"showbackground\":true,\"ticks\":\"\",\"zerolinecolor\":\"white\",\"gridwidth\":2}},\"shapedefaults\":{\"line\":{\"color\":\"#2a3f5f\"}},\"annotationdefaults\":{\"arrowcolor\":\"#2a3f5f\",\"arrowhead\":0,\"arrowwidth\":1},\"geo\":{\"bgcolor\":\"white\",\"landcolor\":\"#E5ECF6\",\"subunitcolor\":\"white\",\"showland\":true,\"showlakes\":true,\"lakecolor\":\"white\"},\"title\":{\"x\":0.05},\"mapbox\":{\"style\":\"light\"}}},\"legend\":{\"tracegroupgap\":0},\"margin\":{\"t\":60}},                        {\"responsive\": true}                    ).then(function(){\n",
       "                            \n",
       "var gd = document.getElementById('f178df50-3400-4d7c-be8a-badf04bf8dda');\n",
       "var x = new MutationObserver(function (mutations, observer) {{\n",
       "        var display = window.getComputedStyle(gd).display;\n",
       "        if (!display || display === 'none') {{\n",
       "            console.log([gd, 'removed!']);\n",
       "            Plotly.purge(gd);\n",
       "            observer.disconnect();\n",
       "        }}\n",
       "}});\n",
       "\n",
       "// Listen for the removal of the full notebook cells\n",
       "var notebookContainer = gd.closest('#notebook-container');\n",
       "if (notebookContainer) {{\n",
       "    x.observe(notebookContainer, {childList: true});\n",
       "}}\n",
       "\n",
       "// Listen for the clearing of the current output cell\n",
       "var outputEl = gd.closest('.output');\n",
       "if (outputEl) {{\n",
       "    x.observe(outputEl, {childList: true});\n",
       "}}\n",
       "\n",
       "                        })                };                });            </script>        </div>"
      ]
     },
     "metadata": {},
     "output_type": "display_data"
    }
   ],
   "source": [
    "fig = pt.pie(data_frame=df,names='Rating')\n",
    "fig.show()"
   ]
  },
  {
   "cell_type": "code",
   "execution_count": 372,
   "id": "6337ee9f-929b-4a98-8248-97e704d026d7",
   "metadata": {},
   "outputs": [
    {
     "data": {
      "image/png": "[encoded data removed]",
      "text/plain": [
       "<Figure size 1000x1200 with 1 Axes>"
      ]
     },
     "metadata": {},
     "output_type": "display_data"
    }
   ],
   "source": [
    "plt.figure(figsize=(10,12))\n",
    "sns.barplot(x='Prices',y='Brand',data=df,errorbar=None,color='purple')\n",
    "plt.title('Bar Plot')\n",
    "plt.show()"
   ]
  },
  {
   "cell_type": "code",
   "execution_count": 373,
   "id": "220cd9cc-b3bc-4bdb-ba67-60415d3a5515",
   "metadata": {},
   "outputs": [],
   "source": [
    "selected_columns = ['Rating','Discount','Prices','Review']\n",
    "df_selected = df[selected_columns]\n",
    "correlation_matrix = df_selected.corr()"
   ]
  },
  {
   "cell_type": "code",
   "execution_count": 374,
   "id": "c57a841a-bedd-49fd-89f0-0a9a74f6aa59",
   "metadata": {},
   "outputs": [
    {
     "data": {
      "image/png": "[encoded data removed]",
      "text/plain": [
       "<Figure size 500x300 with 2 Axes>"
      ]
     },
     "metadata": {},
     "output_type": "display_data"
    }
   ],
   "source": [
    "plt.figure(figsize=(5,3))\n",
    "sns.heatmap(correlation_matrix,annot=True,cmap='winter',linewidth=2,fmt=\".2f\")\n",
    "plt.title('Heatmap')\n",
    "plt.show()"
   ]
  },
  {
   "cell_type": "code",
   "execution_count": 375,
   "id": "f3d8ce92-3d5c-4823-b60d-046c0468ad10",
   "metadata": {},
   "outputs": [
    {
     "data": {
      "image/png": "[encoded data removed]",
      "text/plain": [
       "<Figure size 1000x1000 with 20 Axes>"
      ]
     },
     "metadata": {},
     "output_type": "display_data"
    }
   ],
   "source": [
    "sns.pairplot(df)\n",
    "plt.show()"
   ]
  },
  {
   "cell_type": "markdown",
   "id": "29038176-eb6c-4d51-a04f-245eb25baaae",
   "metadata": {},
   "source": [
    "## UNSUPERVICED LEARNING"
   ]
  },
  {
   "cell_type": "code",
   "execution_count": 461,
   "id": "b95fccdf-0325-467a-bcaa-3b7c3bf8b702",
   "metadata": {},
   "outputs": [],
   "source": [
    "import pandas as pd\n",
    "from sklearn.cluster import KMeans\n",
    "from sklearn.preprocessing import StandardScaler\n",
    "import matplotlib.pyplot as plt"
   ]
  },
  {
   "cell_type": "code",
   "execution_count": 462,
   "id": "c14c2021-75d8-402b-bdb6-b78e753ffb3c",
   "metadata": {},
   "outputs": [],
   "source": [
    "df = pd.read_csv(\"Earphones.csv\")"
   ]
  },
  {
   "cell_type": "code",
   "execution_count": 463,
   "id": "1d3e4a3f-6fcf-45e0-930d-02566d9975ef",
   "metadata": {},
   "outputs": [
    {
     "data": {
      "text/html": [
       "<div>\n",
       "<style scoped>\n",
       "    .dataframe tbody tr th:only-of-type {\n",
       "        vertical-align: middle;\n",
       "    }\n",
       "\n",
       "    .dataframe tbody tr th {\n",
       "        vertical-align: top;\n",
       "    }\n",
       "\n",
       "    .dataframe thead th {\n",
       "        text-align: right;\n",
       "    }\n",
       "</style>\n",
       "<table border=\"1\" class=\"dataframe\">\n",
       "  <thead>\n",
       "    <tr style=\"text-align: right;\">\n",
       "      <th></th>\n",
       "      <th>Brand</th>\n",
       "      <th>Discount</th>\n",
       "      <th>Rating</th>\n",
       "      <th>Review</th>\n",
       "      <th>Prices</th>\n",
       "    </tr>\n",
       "  </thead>\n",
       "  <tbody>\n",
       "    <tr>\n",
       "      <th>0</th>\n",
       "      <td>Bose New QuietComfort Ultra Wireless Earbuds w...</td>\n",
       "      <td>7</td>\n",
       "      <td>4.4</td>\n",
       "      <td>62</td>\n",
       "      <td>25900.0</td>\n",
       "    </tr>\n",
       "    <tr>\n",
       "      <th>1</th>\n",
       "      <td>Samsung Galaxy Buds 3 Pro Bluetooth</td>\n",
       "      <td>20</td>\n",
       "      <td>4.5</td>\n",
       "      <td>570</td>\n",
       "      <td>19999.0</td>\n",
       "    </tr>\n",
       "    <tr>\n",
       "      <th>2</th>\n",
       "      <td>JBL Live Beam 3, Hi-Res LDAC Audio ANC TWS, Sm...</td>\n",
       "      <td>46</td>\n",
       "      <td>4.1</td>\n",
       "      <td>499</td>\n",
       "      <td>13428.0</td>\n",
       "    </tr>\n",
       "    <tr>\n",
       "      <th>3</th>\n",
       "      <td>Apple AirPods 4 Wireless Earbuds, Personalised...</td>\n",
       "      <td>10</td>\n",
       "      <td>4.3</td>\n",
       "      <td>1963</td>\n",
       "      <td>11499.0</td>\n",
       "    </tr>\n",
       "    <tr>\n",
       "      <th>4</th>\n",
       "      <td>Google Pixel Buds Pro with Active Noise Cancel...</td>\n",
       "      <td>49</td>\n",
       "      <td>4.5</td>\n",
       "      <td>4199</td>\n",
       "      <td>9990.0</td>\n",
       "    </tr>\n",
       "  </tbody>\n",
       "</table>\n",
       "</div>"
      ],
      "text/plain": [
       "                                               Brand  Discount  Rating  \\\n",
       "0  Bose New QuietComfort Ultra Wireless Earbuds w...         7     4.4   \n",
       "1                Samsung Galaxy Buds 3 Pro Bluetooth        20     4.5   \n",
       "2  JBL Live Beam 3, Hi-Res LDAC Audio ANC TWS, Sm...        46     4.1   \n",
       "3  Apple AirPods 4 Wireless Earbuds, Personalised...        10     4.3   \n",
       "4  Google Pixel Buds Pro with Active Noise Cancel...        49     4.5   \n",
       "\n",
       "   Review   Prices  \n",
       "0      62  25900.0  \n",
       "1     570  19999.0  \n",
       "2     499  13428.0  \n",
       "3    1963  11499.0  \n",
       "4    4199   9990.0  "
      ]
     },
     "execution_count": 463,
     "metadata": {},
     "output_type": "execute_result"
    }
   ],
   "source": [
    "df.head()"
   ]
  },
  {
   "cell_type": "code",
   "execution_count": 464,
   "id": "5f80ef24-e54c-4e34-ae94-25845470fa4a",
   "metadata": {},
   "outputs": [
    {
     "data": {
      "text/plain": [
       "array([4.4, 4.5, 4.1, 4.3, 3.6, 3.4, 4.2])"
      ]
     },
     "execution_count": 464,
     "metadata": {},
     "output_type": "execute_result"
    }
   ],
   "source": [
    "df[\"Rating\"].unique()"
   ]
  },
  {
   "cell_type": "code",
   "execution_count": 465,
   "id": "f8792493-53cf-4fcb-8116-431227c4ee89",
   "metadata": {},
   "outputs": [
    {
     "data": {
      "text/plain": [
       "array([25900., 19999., 13428., 11499.,  9990.,  7999.,  6499.,  5999.,\n",
       "        5499., 11999.,  9999.,  6481.])"
      ]
     },
     "execution_count": 465,
     "metadata": {},
     "output_type": "execute_result"
    }
   ],
   "source": [
    "df[\"Prices\"].unique()"
   ]
  },
  {
   "cell_type": "code",
   "execution_count": 466,
   "id": "54c3cc0d-436a-4cc1-a451-553114e7ba30",
   "metadata": {},
   "outputs": [
    {
     "data": {
      "text/plain": [
       "array([   62,   570,   499,  1963,  4199, 12899,  1346,   786, 39987,\n",
       "          42,  1443,  8244,  1917,  3170], dtype=int64)"
      ]
     },
     "execution_count": 466,
     "metadata": {},
     "output_type": "execute_result"
    }
   ],
   "source": [
    "df[\"Review\"].unique()"
   ]
  },
  {
   "cell_type": "code",
   "execution_count": 467,
   "id": "76c9495f-f11e-46e3-9ee7-12123daa15f6",
   "metadata": {},
   "outputs": [],
   "source": [
    "features = df[['Prices', 'Rating', 'Review']].dropna()"
   ]
  },
  {
   "cell_type": "code",
   "execution_count": 481,
   "id": "678e1abd-cd75-42da-8898-605ab6ba26c9",
   "metadata": {},
   "outputs": [
    {
     "data": {
      "image/png": "[encoded data removed]",
      "text/plain": [
       "<Figure size 1200x700 with 1 Axes>"
      ]
     },
     "metadata": {},
     "output_type": "display_data"
    }
   ],
   "source": [
    "X = df[['Prices']]\n",
    "# Apply KMeans clustering (3 clusters)\n",
    "kmeans = KMeans(n_clusters=3, random_state=42)\n",
    "df['Cluster'] = kmeans.fit_predict(X)\n",
    "\n",
    "# Map clusters based on Price and Rating\n",
    "def map_cluster(row):\n",
    "    price = row['Prices']\n",
    "    rating = row['Rating']\n",
    "    if price <= 8000 :\n",
    "        return 'Budget'\n",
    "    elif 8000 < price <= 12000 :\n",
    "        return 'Popular'\n",
    "    elif price > 12000 :\n",
    "        return 'Premium'\n",
    "    else:\n",
    "        return 'Popular'  # Default fallback\n",
    "\n",
    "df['ClusterName'] = df.apply(map_cluster, axis=1)\n",
    "\n",
    "# Plotting\n",
    "colors = {'Budget': 'blue', 'Popular': 'green', 'Premium': 'red'}\n",
    "\n",
    "plt.figure(figsize=(12, 7))\n",
    "for cluster in df['ClusterName'].unique():\n",
    "    clustered_data = df[df['ClusterName'] == cluster]\n",
    "    plt.scatter(clustered_data['Prices'], clustered_data['Rating'],\n",
    "                c=colors[cluster], label=cluster, edgecolor='k', s=50)\n",
    "\n",
    "plt.title('Earphones Clustering by Price and Rating')\n",
    "plt.xlabel('Prices')\n",
    "plt.ylabel('Rating')\n",
    "plt.legend()\n",
    "plt.grid(True)\n",
    "plt.show()\n"
   ]
  },
  {
   "cell_type": "markdown",
   "id": "d0c07840-2af6-47f5-a0b9-e18aea6c534e",
   "metadata": {},
   "source": [
    "### Budget Headohones"
   ]
  },
  {
   "cell_type": "code",
   "execution_count": 485,
   "id": "fce5eb1f-b81d-4061-915d-83e517fd0ab7",
   "metadata": {},
   "outputs": [
    {
     "name": "stdout",
     "output_type": "stream",
     "text": [
      "Budget Earbuds DataFrame:\n"
     ]
    },
    {
     "data": {
      "text/html": [
       "<div>\n",
       "<style scoped>\n",
       "    .dataframe tbody tr th:only-of-type {\n",
       "        vertical-align: middle;\n",
       "    }\n",
       "\n",
       "    .dataframe tbody tr th {\n",
       "        vertical-align: top;\n",
       "    }\n",
       "\n",
       "    .dataframe thead th {\n",
       "        text-align: right;\n",
       "    }\n",
       "</style>\n",
       "<table border=\"1\" class=\"dataframe\">\n",
       "  <thead>\n",
       "    <tr style=\"text-align: right;\">\n",
       "      <th></th>\n",
       "      <th>Brand</th>\n",
       "      <th>Discount</th>\n",
       "      <th>Prices</th>\n",
       "      <th>Rating</th>\n",
       "      <th>Review</th>\n",
       "    </tr>\n",
       "  </thead>\n",
       "  <tbody>\n",
       "    <tr>\n",
       "      <th>5</th>\n",
       "      <td>Nothing Ear (2) 2023 | Dual chamber sound | Hi...</td>\n",
       "      <td>38</td>\n",
       "      <td>7999.0</td>\n",
       "      <td>4.3</td>\n",
       "      <td>12899</td>\n",
       "    </tr>\n",
       "    <tr>\n",
       "      <th>6</th>\n",
       "      <td>JBL Tune Flex TWS with ANC, Customizable Earti...</td>\n",
       "      <td>27</td>\n",
       "      <td>6499.0</td>\n",
       "      <td>3.6</td>\n",
       "      <td>1346</td>\n",
       "    </tr>\n",
       "    <tr>\n",
       "      <th>7</th>\n",
       "      <td>OnePlus Buds 4 55dB ANC, 45 hrs Playback, Dual...</td>\n",
       "      <td>7</td>\n",
       "      <td>5999.0</td>\n",
       "      <td>4.4</td>\n",
       "      <td>786</td>\n",
       "    </tr>\n",
       "    <tr>\n",
       "      <th>8</th>\n",
       "      <td>OnePlus Buds 3 TWS, in Ear Earbuds with Slidin...</td>\n",
       "      <td>15</td>\n",
       "      <td>5499.0</td>\n",
       "      <td>4.5</td>\n",
       "      <td>39987</td>\n",
       "    </tr>\n",
       "    <tr>\n",
       "      <th>9</th>\n",
       "      <td>OnePlus Buds 3 TWS, in Ear Earbuds with Slidin...</td>\n",
       "      <td>15</td>\n",
       "      <td>5499.0</td>\n",
       "      <td>4.5</td>\n",
       "      <td>39987</td>\n",
       "    </tr>\n",
       "  </tbody>\n",
       "</table>\n",
       "</div>"
      ],
      "text/plain": [
       "                                               Brand  Discount  Prices  \\\n",
       "5  Nothing Ear (2) 2023 | Dual chamber sound | Hi...        38  7999.0   \n",
       "6  JBL Tune Flex TWS with ANC, Customizable Earti...        27  6499.0   \n",
       "7  OnePlus Buds 4 55dB ANC, 45 hrs Playback, Dual...         7  5999.0   \n",
       "8  OnePlus Buds 3 TWS, in Ear Earbuds with Slidin...        15  5499.0   \n",
       "9  OnePlus Buds 3 TWS, in Ear Earbuds with Slidin...        15  5499.0   \n",
       "\n",
       "   Rating  Review  \n",
       "5     4.3   12899  \n",
       "6     3.6    1346  \n",
       "7     4.4     786  \n",
       "8     4.5   39987  \n",
       "9     4.5   39987  "
      ]
     },
     "execution_count": 485,
     "metadata": {},
     "output_type": "execute_result"
    }
   ],
   "source": [
    "budget_earbuds = df[df['ClusterName'] == 'Budget']\n",
    "budget_earbuds_df = budget_earbuds[['Brand', 'Discount', 'Prices', 'Rating', 'Review']]\n",
    "print(\"Budget Earbuds DataFrame:\")\n",
    "budget_earbuds_df.head()"
   ]
  },
  {
   "cell_type": "markdown",
   "id": "fbc3db3a-081b-4fd2-b611-b302eaf4ed1e",
   "metadata": {},
   "source": [
    "### Popular Headohones"
   ]
  },
  {
   "cell_type": "code",
   "execution_count": 488,
   "id": "161eb8e2-3042-4fda-9788-69b14916b077",
   "metadata": {},
   "outputs": [
    {
     "name": "stdout",
     "output_type": "stream",
     "text": [
      "Budget Earbuds DataFrame:\n"
     ]
    },
    {
     "data": {
      "text/html": [
       "<div>\n",
       "<style scoped>\n",
       "    .dataframe tbody tr th:only-of-type {\n",
       "        vertical-align: middle;\n",
       "    }\n",
       "\n",
       "    .dataframe tbody tr th {\n",
       "        vertical-align: top;\n",
       "    }\n",
       "\n",
       "    .dataframe thead th {\n",
       "        text-align: right;\n",
       "    }\n",
       "</style>\n",
       "<table border=\"1\" class=\"dataframe\">\n",
       "  <thead>\n",
       "    <tr style=\"text-align: right;\">\n",
       "      <th></th>\n",
       "      <th>Brand</th>\n",
       "      <th>Discount</th>\n",
       "      <th>Prices</th>\n",
       "      <th>Rating</th>\n",
       "      <th>Review</th>\n",
       "    </tr>\n",
       "  </thead>\n",
       "  <tbody>\n",
       "    <tr>\n",
       "      <th>3</th>\n",
       "      <td>Apple AirPods 4 Wireless Earbuds, Personalised...</td>\n",
       "      <td>10</td>\n",
       "      <td>11499.0</td>\n",
       "      <td>4.3</td>\n",
       "      <td>1963</td>\n",
       "    </tr>\n",
       "    <tr>\n",
       "      <th>4</th>\n",
       "      <td>Google Pixel Buds Pro with Active Noise Cancel...</td>\n",
       "      <td>49</td>\n",
       "      <td>9990.0</td>\n",
       "      <td>4.5</td>\n",
       "      <td>4199</td>\n",
       "    </tr>\n",
       "    <tr>\n",
       "      <th>13</th>\n",
       "      <td>Apple AirPods 4 Wireless Earbuds, Personalised...</td>\n",
       "      <td>10</td>\n",
       "      <td>11499.0</td>\n",
       "      <td>4.3</td>\n",
       "      <td>1963</td>\n",
       "    </tr>\n",
       "    <tr>\n",
       "      <th>14</th>\n",
       "      <td>Google Pixel Buds Pro with Active Noise Cancel...</td>\n",
       "      <td>49</td>\n",
       "      <td>9990.0</td>\n",
       "      <td>4.5</td>\n",
       "      <td>4199</td>\n",
       "    </tr>\n",
       "    <tr>\n",
       "      <th>23</th>\n",
       "      <td>Apple AirPods 4 Wireless Earbuds, Personalised...</td>\n",
       "      <td>10</td>\n",
       "      <td>11499.0</td>\n",
       "      <td>4.3</td>\n",
       "      <td>1963</td>\n",
       "    </tr>\n",
       "  </tbody>\n",
       "</table>\n",
       "</div>"
      ],
      "text/plain": [
       "                                                Brand  Discount   Prices  \\\n",
       "3   Apple AirPods 4 Wireless Earbuds, Personalised...        10  11499.0   \n",
       "4   Google Pixel Buds Pro with Active Noise Cancel...        49   9990.0   \n",
       "13  Apple AirPods 4 Wireless Earbuds, Personalised...        10  11499.0   \n",
       "14  Google Pixel Buds Pro with Active Noise Cancel...        49   9990.0   \n",
       "23  Apple AirPods 4 Wireless Earbuds, Personalised...        10  11499.0   \n",
       "\n",
       "    Rating  Review  \n",
       "3      4.3    1963  \n",
       "4      4.5    4199  \n",
       "13     4.3    1963  \n",
       "14     4.5    4199  \n",
       "23     4.3    1963  "
      ]
     },
     "execution_count": 488,
     "metadata": {},
     "output_type": "execute_result"
    }
   ],
   "source": [
    "budget_earbuds = df[df['ClusterName'] == 'Popular']\n",
    "budget_earbuds_df = budget_earbuds[['Brand', 'Discount', 'Prices', 'Rating', 'Review']]\n",
    "print(\"Budget Earbuds DataFrame:\")\n",
    "budget_earbuds_df.head()"
   ]
  },
  {
   "cell_type": "markdown",
   "id": "e1a36726-59f7-440b-961d-c35a664faeae",
   "metadata": {},
   "source": [
    "### Premium Headohones"
   ]
  },
  {
   "cell_type": "code",
   "execution_count": 489,
   "id": "22f5b892-2958-4b7f-bcfd-75d4cc88dd52",
   "metadata": {},
   "outputs": [
    {
     "name": "stdout",
     "output_type": "stream",
     "text": [
      "Budget Earbuds DataFrame:\n"
     ]
    },
    {
     "data": {
      "text/html": [
       "<div>\n",
       "<style scoped>\n",
       "    .dataframe tbody tr th:only-of-type {\n",
       "        vertical-align: middle;\n",
       "    }\n",
       "\n",
       "    .dataframe tbody tr th {\n",
       "        vertical-align: top;\n",
       "    }\n",
       "\n",
       "    .dataframe thead th {\n",
       "        text-align: right;\n",
       "    }\n",
       "</style>\n",
       "<table border=\"1\" class=\"dataframe\">\n",
       "  <thead>\n",
       "    <tr style=\"text-align: right;\">\n",
       "      <th></th>\n",
       "      <th>Brand</th>\n",
       "      <th>Discount</th>\n",
       "      <th>Prices</th>\n",
       "      <th>Rating</th>\n",
       "      <th>Review</th>\n",
       "    </tr>\n",
       "  </thead>\n",
       "  <tbody>\n",
       "    <tr>\n",
       "      <th>0</th>\n",
       "      <td>Bose New QuietComfort Ultra Wireless Earbuds w...</td>\n",
       "      <td>7</td>\n",
       "      <td>25900.0</td>\n",
       "      <td>4.4</td>\n",
       "      <td>62</td>\n",
       "    </tr>\n",
       "    <tr>\n",
       "      <th>1</th>\n",
       "      <td>Samsung Galaxy Buds 3 Pro Bluetooth</td>\n",
       "      <td>20</td>\n",
       "      <td>19999.0</td>\n",
       "      <td>4.5</td>\n",
       "      <td>570</td>\n",
       "    </tr>\n",
       "    <tr>\n",
       "      <th>2</th>\n",
       "      <td>JBL Live Beam 3, Hi-Res LDAC Audio ANC TWS, Sm...</td>\n",
       "      <td>46</td>\n",
       "      <td>13428.0</td>\n",
       "      <td>4.1</td>\n",
       "      <td>499</td>\n",
       "    </tr>\n",
       "    <tr>\n",
       "      <th>10</th>\n",
       "      <td>Bose New QuietComfort Ultra Wireless Earbuds w...</td>\n",
       "      <td>7</td>\n",
       "      <td>25900.0</td>\n",
       "      <td>4.4</td>\n",
       "      <td>62</td>\n",
       "    </tr>\n",
       "    <tr>\n",
       "      <th>11</th>\n",
       "      <td>Samsung Galaxy Buds 3 Pro Bluetooth</td>\n",
       "      <td>20</td>\n",
       "      <td>19999.0</td>\n",
       "      <td>4.5</td>\n",
       "      <td>570</td>\n",
       "    </tr>\n",
       "  </tbody>\n",
       "</table>\n",
       "</div>"
      ],
      "text/plain": [
       "                                                Brand  Discount   Prices  \\\n",
       "0   Bose New QuietComfort Ultra Wireless Earbuds w...         7  25900.0   \n",
       "1                 Samsung Galaxy Buds 3 Pro Bluetooth        20  19999.0   \n",
       "2   JBL Live Beam 3, Hi-Res LDAC Audio ANC TWS, Sm...        46  13428.0   \n",
       "10  Bose New QuietComfort Ultra Wireless Earbuds w...         7  25900.0   \n",
       "11                Samsung Galaxy Buds 3 Pro Bluetooth        20  19999.0   \n",
       "\n",
       "    Rating  Review  \n",
       "0      4.4      62  \n",
       "1      4.5     570  \n",
       "2      4.1     499  \n",
       "10     4.4      62  \n",
       "11     4.5     570  "
      ]
     },
     "execution_count": 489,
     "metadata": {},
     "output_type": "execute_result"
    }
   ],
   "source": [
    "budget_earbuds = df[df['ClusterName'] == 'Premium']\n",
    "budget_earbuds_df = budget_earbuds[['Brand', 'Discount', 'Prices', 'Rating', 'Review']]\n",
    "print(\"Budget Earbuds DataFrame:\")\n",
    "budget_earbuds_df.head()"
   ]
  },
  {
   "cell_type": "code",
   "execution_count": 490,
   "id": "7e27876e-f31b-4ec3-b2f5-dba7c311fc49",
   "metadata": {},
   "outputs": [],
   "source": [
    "import pandas as pd\n",
    "import numpy as np\n",
    "from sklearn.preprocessing import StandardScaler\n",
    "from sklearn.cluster import KMeans\n",
    "import gradio as gr"
   ]
  },
  {
   "cell_type": "code",
   "execution_count": 494,
   "id": "8633313d-4697-465e-963f-0013ceba3dba",
   "metadata": {},
   "outputs": [
    {
     "name": "stdout",
     "output_type": "stream",
     "text": [
      "* Running on local URL:  http://127.0.0.1:7869\n",
      "* To create a public link, set `share=True` in `launch()`.\n"
     ]
    },
    {
     "data": {
      "text/html": [
       "<div><iframe src=\"http://127.0.0.1:7869/\" width=\"100%\" height=\"500\" allow=\"autoplay; camera; microphone; clipboard-read; clipboard-write;\" frameborder=\"0\" allowfullscreen></iframe></div>"
      ],
      "text/plain": [
       "<IPython.core.display.HTML object>"
      ]
     },
     "metadata": {},
     "output_type": "display_data"
    },
    {
     "data": {
      "text/plain": []
     },
     "execution_count": 494,
     "metadata": {},
     "output_type": "execute_result"
    }
   ],
   "source": [
    "np.random.seed(42)\n",
    "data = {\n",
    "    'Prices': np.random.uniform(1000, 20000, 100),\n",
    "    'Rating': np.random.uniform(1, 5, 100),\n",
    "    'Review': np.random.randint(10, 1000, 100),\n",
    "    'Discount': np.random.uniform(0, 50, 100)\n",
    "}\n",
    "df = pd.DataFrame(data)\n",
    "\n",
    "# --- Step 2: Scale the features ---\n",
    "scaler = StandardScaler()\n",
    "X = df[['Prices', 'Rating', 'Review']]\n",
    "X_scaled = scaler.fit_transform(X)\n",
    "\n",
    "# --- Step 3: Apply KMeans ---\n",
    "kmeans = KMeans(n_clusters=3, random_state=42)\n",
    "kmeans.fit(X_scaled)\n",
    "\n",
    "# --- Step 4: Define cluster name mapping ---\n",
    "cluster_names = {\n",
    "    0: 'Budget',\n",
    "    1: 'Popular',\n",
    "    2: 'Premium'\n",
    "}\n",
    "\n",
    "def predict_cluster(price, rating, review, discount):\n",
    "    \n",
    "    input_df = pd.DataFrame([[price, rating, review]], columns=['Prices', 'Rating', 'Review'])\n",
    "    input_scaled = scaler.transform(input_df)\n",
    "    cluster_num = kmeans.predict(input_scaled)[0]  \n",
    "    return cluster_names.get(cluster_num, \"Unknown Cluster\")\n",
    "\n",
    "\n",
    "iface = gr.Interface(\n",
    "    fn=predict_cluster,\n",
    "    inputs=[\n",
    "        gr.Number(label=\"Price\"),\n",
    "        gr.Number(label=\"Rating\"),\n",
    "        gr.Number(label=\"Review\"),\n",
    "        gr.Number(label=\"Discount\") \n",
    "    ],\n",
    "    outputs=gr.Textbox(label=\"Cluster Name\"),\n",
    "    title=\"Earbuds Cluster Prediction\",\n",
    "    description=\"Enter product details and get the cluster classification (Budget, Popular, Premium).\"\n",
    ")\n",
    "\n",
    "iface.launch()\n"
   ]
  },
  {
   "cell_type": "code",
   "execution_count": 495,
   "id": "83d169b6-1cb4-4d6d-b248-5e229b795372",
   "metadata": {},
   "outputs": [
    {
     "data": {
      "text/html": [
       "<div>\n",
       "<style scoped>\n",
       "    .dataframe tbody tr th:only-of-type {\n",
       "        vertical-align: middle;\n",
       "    }\n",
       "\n",
       "    .dataframe tbody tr th {\n",
       "        vertical-align: top;\n",
       "    }\n",
       "\n",
       "    .dataframe thead th {\n",
       "        text-align: right;\n",
       "    }\n",
       "</style>\n",
       "<table border=\"1\" class=\"dataframe\">\n",
       "  <thead>\n",
       "    <tr style=\"text-align: right;\">\n",
       "      <th></th>\n",
       "      <th>Prices</th>\n",
       "      <th>Rating</th>\n",
       "      <th>Review</th>\n",
       "      <th>Discount</th>\n",
       "    </tr>\n",
       "  </thead>\n",
       "  <tbody>\n",
       "    <tr>\n",
       "      <th>0</th>\n",
       "      <td>8116.262258</td>\n",
       "      <td>1.125717</td>\n",
       "      <td>929</td>\n",
       "      <td>9.545552</td>\n",
       "    </tr>\n",
       "    <tr>\n",
       "      <th>1</th>\n",
       "      <td>19063.571822</td>\n",
       "      <td>3.545642</td>\n",
       "      <td>637</td>\n",
       "      <td>13.423743</td>\n",
       "    </tr>\n",
       "    <tr>\n",
       "      <th>2</th>\n",
       "      <td>14907.884894</td>\n",
       "      <td>2.257424</td>\n",
       "      <td>596</td>\n",
       "      <td>24.263994</td>\n",
       "    </tr>\n",
       "    <tr>\n",
       "      <th>3</th>\n",
       "      <td>12374.511200</td>\n",
       "      <td>3.034283</td>\n",
       "      <td>634</td>\n",
       "      <td>18.634343</td>\n",
       "    </tr>\n",
       "    <tr>\n",
       "      <th>4</th>\n",
       "      <td>3964.354168</td>\n",
       "      <td>4.630266</td>\n",
       "      <td>977</td>\n",
       "      <td>19.734573</td>\n",
       "    </tr>\n",
       "    <tr>\n",
       "      <th>...</th>\n",
       "      <td>...</td>\n",
       "      <td>...</td>\n",
       "      <td>...</td>\n",
       "      <td>...</td>\n",
       "    </tr>\n",
       "    <tr>\n",
       "      <th>95</th>\n",
       "      <td>10382.116331</td>\n",
       "      <td>2.396838</td>\n",
       "      <td>709</td>\n",
       "      <td>44.334019</td>\n",
       "    </tr>\n",
       "    <tr>\n",
       "      <th>96</th>\n",
       "      <td>10931.923758</td>\n",
       "      <td>3.903823</td>\n",
       "      <td>125</td>\n",
       "      <td>13.044681</td>\n",
       "    </tr>\n",
       "    <tr>\n",
       "      <th>97</th>\n",
       "      <td>9123.279349</td>\n",
       "      <td>4.588441</td>\n",
       "      <td>200</td>\n",
       "      <td>0.765227</td>\n",
       "    </tr>\n",
       "    <tr>\n",
       "      <th>98</th>\n",
       "      <td>1482.963408</td>\n",
       "      <td>4.548346</td>\n",
       "      <td>262</td>\n",
       "      <td>46.671815</td>\n",
       "    </tr>\n",
       "    <tr>\n",
       "      <th>99</th>\n",
       "      <td>3049.937113</td>\n",
       "      <td>4.119502</td>\n",
       "      <td>990</td>\n",
       "      <td>25.051994</td>\n",
       "    </tr>\n",
       "  </tbody>\n",
       "</table>\n",
       "<p>100 rows × 4 columns</p>\n",
       "</div>"
      ],
      "text/plain": [
       "          Prices    Rating  Review   Discount\n",
       "0    8116.262258  1.125717     929   9.545552\n",
       "1   19063.571822  3.545642     637  13.423743\n",
       "2   14907.884894  2.257424     596  24.263994\n",
       "3   12374.511200  3.034283     634  18.634343\n",
       "4    3964.354168  4.630266     977  19.734573\n",
       "..           ...       ...     ...        ...\n",
       "95  10382.116331  2.396838     709  44.334019\n",
       "96  10931.923758  3.903823     125  13.044681\n",
       "97   9123.279349  4.588441     200   0.765227\n",
       "98   1482.963408  4.548346     262  46.671815\n",
       "99   3049.937113  4.119502     990  25.051994\n",
       "\n",
       "[100 rows x 4 columns]"
      ]
     },
     "execution_count": 495,
     "metadata": {},
     "output_type": "execute_result"
    }
   ],
   "source": [
    "df"
   ]
  },
  {
   "cell_type": "markdown",
   "id": "85b67e84-d41d-49f8-9a89-da519586519f",
   "metadata": {},
   "source": [
    "# SUPERVICED LEARNING"
   ]
  },
  {
   "cell_type": "code",
   "execution_count": 496,
   "id": "663f5b6c-f110-40bd-88ba-0f4d80b2af57",
   "metadata": {},
   "outputs": [],
   "source": [
    "import pandas as pd\n",
    "from sklearn.model_selection import train_test_split\n",
    "from sklearn.linear_model import LinearRegression\n",
    "from sklearn.ensemble import RandomForestRegressor\n",
    "from sklearn.neighbors import KNeighborsRegressor\n",
    "from sklearn.svm import SVR\n",
    "from xgboost import XGBRegressor\n",
    "from sklearn.metrics import mean_squared_error, r2_score\n",
    "import numpy as np"
   ]
  },
  {
   "cell_type": "code",
   "execution_count": 497,
   "id": "4b27445b-a8b6-482b-b376-18fb344abedc",
   "metadata": {},
   "outputs": [],
   "source": [
    "df1 = pd.read_csv(\"Earphones.csv\")"
   ]
  },
  {
   "cell_type": "code",
   "execution_count": 498,
   "id": "06baef16-44f5-4b26-a186-53213cef904b",
   "metadata": {},
   "outputs": [
    {
     "data": {
      "text/html": [
       "<div>\n",
       "<style scoped>\n",
       "    .dataframe tbody tr th:only-of-type {\n",
       "        vertical-align: middle;\n",
       "    }\n",
       "\n",
       "    .dataframe tbody tr th {\n",
       "        vertical-align: top;\n",
       "    }\n",
       "\n",
       "    .dataframe thead th {\n",
       "        text-align: right;\n",
       "    }\n",
       "</style>\n",
       "<table border=\"1\" class=\"dataframe\">\n",
       "  <thead>\n",
       "    <tr style=\"text-align: right;\">\n",
       "      <th></th>\n",
       "      <th>Brand</th>\n",
       "      <th>Discount</th>\n",
       "      <th>Rating</th>\n",
       "      <th>Review</th>\n",
       "      <th>Prices</th>\n",
       "    </tr>\n",
       "  </thead>\n",
       "  <tbody>\n",
       "    <tr>\n",
       "      <th>0</th>\n",
       "      <td>Bose New QuietComfort Ultra Wireless Earbuds w...</td>\n",
       "      <td>7</td>\n",
       "      <td>4.4</td>\n",
       "      <td>62</td>\n",
       "      <td>25900.0</td>\n",
       "    </tr>\n",
       "    <tr>\n",
       "      <th>1</th>\n",
       "      <td>Samsung Galaxy Buds 3 Pro Bluetooth</td>\n",
       "      <td>20</td>\n",
       "      <td>4.5</td>\n",
       "      <td>570</td>\n",
       "      <td>19999.0</td>\n",
       "    </tr>\n",
       "    <tr>\n",
       "      <th>2</th>\n",
       "      <td>JBL Live Beam 3, Hi-Res LDAC Audio ANC TWS, Sm...</td>\n",
       "      <td>46</td>\n",
       "      <td>4.1</td>\n",
       "      <td>499</td>\n",
       "      <td>13428.0</td>\n",
       "    </tr>\n",
       "    <tr>\n",
       "      <th>3</th>\n",
       "      <td>Apple AirPods 4 Wireless Earbuds, Personalised...</td>\n",
       "      <td>10</td>\n",
       "      <td>4.3</td>\n",
       "      <td>1963</td>\n",
       "      <td>11499.0</td>\n",
       "    </tr>\n",
       "    <tr>\n",
       "      <th>4</th>\n",
       "      <td>Google Pixel Buds Pro with Active Noise Cancel...</td>\n",
       "      <td>49</td>\n",
       "      <td>4.5</td>\n",
       "      <td>4199</td>\n",
       "      <td>9990.0</td>\n",
       "    </tr>\n",
       "    <tr>\n",
       "      <th>...</th>\n",
       "      <td>...</td>\n",
       "      <td>...</td>\n",
       "      <td>...</td>\n",
       "      <td>...</td>\n",
       "      <td>...</td>\n",
       "    </tr>\n",
       "    <tr>\n",
       "      <th>1045</th>\n",
       "      <td>Marshall Minor IV Wireless Earbuds 30+ Hr of P...</td>\n",
       "      <td>10</td>\n",
       "      <td>3.4</td>\n",
       "      <td>42</td>\n",
       "      <td>11999.0</td>\n",
       "    </tr>\n",
       "    <tr>\n",
       "      <th>1046</th>\n",
       "      <td>OnePlus Buds Pro 3 - Midnight Opus Bluetooth</td>\n",
       "      <td>28</td>\n",
       "      <td>4.4</td>\n",
       "      <td>1443</td>\n",
       "      <td>9999.0</td>\n",
       "    </tr>\n",
       "    <tr>\n",
       "      <th>1047</th>\n",
       "      <td>OnePlus Buds Pro 2 Bluetooth</td>\n",
       "      <td>53</td>\n",
       "      <td>4.4</td>\n",
       "      <td>8244</td>\n",
       "      <td>6481.0</td>\n",
       "    </tr>\n",
       "    <tr>\n",
       "      <th>1048</th>\n",
       "      <td>realme Buds Air 7 Pro with 53dB ANC,360 Spatia...</td>\n",
       "      <td>31</td>\n",
       "      <td>4.4</td>\n",
       "      <td>1917</td>\n",
       "      <td>5499.0</td>\n",
       "    </tr>\n",
       "    <tr>\n",
       "      <th>1049</th>\n",
       "      <td>Nothing Ear (a) 2024 | ChatGPT Compatible | Hi...</td>\n",
       "      <td>45</td>\n",
       "      <td>4.2</td>\n",
       "      <td>3170</td>\n",
       "      <td>5499.0</td>\n",
       "    </tr>\n",
       "  </tbody>\n",
       "</table>\n",
       "<p>1050 rows × 5 columns</p>\n",
       "</div>"
      ],
      "text/plain": [
       "                                                  Brand  Discount  Rating  \\\n",
       "0     Bose New QuietComfort Ultra Wireless Earbuds w...         7     4.4   \n",
       "1                   Samsung Galaxy Buds 3 Pro Bluetooth        20     4.5   \n",
       "2     JBL Live Beam 3, Hi-Res LDAC Audio ANC TWS, Sm...        46     4.1   \n",
       "3     Apple AirPods 4 Wireless Earbuds, Personalised...        10     4.3   \n",
       "4     Google Pixel Buds Pro with Active Noise Cancel...        49     4.5   \n",
       "...                                                 ...       ...     ...   \n",
       "1045  Marshall Minor IV Wireless Earbuds 30+ Hr of P...        10     3.4   \n",
       "1046       OnePlus Buds Pro 3 - Midnight Opus Bluetooth        28     4.4   \n",
       "1047                       OnePlus Buds Pro 2 Bluetooth        53     4.4   \n",
       "1048  realme Buds Air 7 Pro with 53dB ANC,360 Spatia...        31     4.4   \n",
       "1049  Nothing Ear (a) 2024 | ChatGPT Compatible | Hi...        45     4.2   \n",
       "\n",
       "      Review   Prices  \n",
       "0         62  25900.0  \n",
       "1        570  19999.0  \n",
       "2        499  13428.0  \n",
       "3       1963  11499.0  \n",
       "4       4199   9990.0  \n",
       "...      ...      ...  \n",
       "1045      42  11999.0  \n",
       "1046    1443   9999.0  \n",
       "1047    8244   6481.0  \n",
       "1048    1917   5499.0  \n",
       "1049    3170   5499.0  \n",
       "\n",
       "[1050 rows x 5 columns]"
      ]
     },
     "execution_count": 498,
     "metadata": {},
     "output_type": "execute_result"
    }
   ],
   "source": [
    "df1"
   ]
  },
  {
   "cell_type": "code",
   "execution_count": 499,
   "id": "9416f700-2e7e-4029-81c2-bc699c81409d",
   "metadata": {},
   "outputs": [
    {
     "name": "stdout",
     "output_type": "stream",
     "text": [
      "=== Regression Model Evaluation ===\n",
      "Linear Regression:\n",
      "  MSE: 25479623.83\n",
      "  RMSE: 5047.73\n",
      "  R² Score: 0.45\n",
      "\n",
      "Random Forest Regressor:\n",
      "  MSE: 0.00\n",
      "  RMSE: 0.00\n",
      "  R² Score: 1.00\n",
      "\n",
      "k-NN Regressor:\n",
      "  MSE: 0.00\n",
      "  RMSE: 0.00\n",
      "  R² Score: 1.00\n",
      "\n",
      "SVR:\n",
      "  MSE: 47284851.97\n",
      "  RMSE: 6876.40\n",
      "  R² Score: -0.01\n",
      "\n",
      "XGBoost Regressor:\n",
      "  MSE: 0.00\n",
      "  RMSE: 0.00\n",
      "  R² Score: 1.00\n",
      "\n"
     ]
    }
   ],
   "source": [
    "# Features and target\n",
    "X = df1[['Discount', 'Rating', 'Review']] \n",
    "y = df1['Prices']                         \n",
    "\n",
    "X_train, X_test, y_train, y_test = train_test_split(X, y, test_size=0.2, random_state=42)\n",
    "\n",
    "models = {\n",
    "    'Linear Regression': LinearRegression(),\n",
    "    'Random Forest Regressor': RandomForestRegressor(),\n",
    "    'k-NN Regressor': KNeighborsRegressor(),\n",
    "    'SVR': SVR(),\n",
    "    'XGBoost Regressor': XGBRegressor(use_label_encoder=False, eval_metric='rmse')\n",
    "}\n",
    "\n",
    "print(\"=== Regression Model Evaluation ===\")\n",
    "\n",
    "for name, model in models.items():\n",
    "    # Train the model\n",
    "    model.fit(X_train, y_train)\n",
    "    \n",
    "    # Make predictions\n",
    "    y_pred = model.predict(X_test)\n",
    "    \n",
    "    # Calculate metrics\n",
    "    mse = mean_squared_error(y_test, y_pred)\n",
    "    rmse = np.sqrt(mse)\n",
    "    r2 = r2_score(y_test, y_pred)\n",
    "    \n",
    "    print(f\"{name}:\")\n",
    "    print(f\"  MSE: {mse:.2f}\")\n",
    "    print(f\"  RMSE: {rmse:.2f}\")\n",
    "    print(f\"  R² Score: {r2:.2f}\\n\")\n"
   ]
  },
  {
   "cell_type": "code",
   "execution_count": 500,
   "id": "d03dcabf-cdde-4136-81f0-f8053af769ef",
   "metadata": {},
   "outputs": [
    {
     "name": "stdout",
     "output_type": "stream",
     "text": [
      "=== Model Evaluation ===\n",
      "Linear Regression: RMSE = 5047.73, R² Score = 0.45\n",
      "Random Forest Regressor: RMSE = 0.00, R² Score = 1.00\n",
      "k-NN Regressor: RMSE = 0.00, R² Score = 1.00\n",
      "SVR: RMSE = 6876.40, R² Score = -0.01\n",
      "XGBoost Regressor: RMSE = 0.00, R² Score = 1.00\n",
      "\n",
      "=== Best-Fit Model ===\n",
      "Best Model: Random Forest Regressor\n",
      "R² Score: 1.00\n"
     ]
    }
   ],
   "source": [
    "X = df1[['Discount', 'Rating', 'Review']]  \n",
    "y = df1['Prices']                          \n",
    "\n",
    "# Split into training and testing sets\n",
    "X_train, X_test, y_train, y_test = train_test_split(X, y, test_size=0.2, random_state=42)\n",
    "\n",
    "# Define regression models\n",
    "models = {\n",
    "    'Linear Regression': LinearRegression(),\n",
    "    'Random Forest Regressor': RandomForestRegressor(),\n",
    "    'k-NN Regressor': KNeighborsRegressor(),\n",
    "    'SVR': SVR(),\n",
    "    'XGBoost Regressor': XGBRegressor(use_label_encoder=False, eval_metric='rmse')\n",
    "}\n",
    "\n",
    "best_model = None\n",
    "best_score = -np.inf  # Initialize with a very low value\n",
    "results = []\n",
    "\n",
    "print(\"=== Model Evaluation ===\")\n",
    "\n",
    "# Train, predict, and evaluate each model\n",
    "for name, model in models.items():\n",
    "    model.fit(X_train, y_train)\n",
    "    y_pred = model.predict(X_test)\n",
    "    \n",
    "    mse = mean_squared_error(y_test, y_pred)\n",
    "    rmse = np.sqrt(mse)\n",
    "    r2 = r2_score(y_test, y_pred)\n",
    "    \n",
    "    results.append((name, rmse, r2))\n",
    "    \n",
    "    print(f\"{name}: RMSE = {rmse:.2f}, R² Score = {r2:.2f}\")\n",
    "    \n",
    "    # Update best model based on R² score\n",
    "    if r2 > best_score:\n",
    "        best_score = r2\n",
    "        best_model = (name, model)\n",
    "\n",
    "# Display the best model\n",
    "print(\"\\n=== Best-Fit Model ===\")\n",
    "print(f\"Best Model: {best_model[0]}\")\n",
    "print(f\"R² Score: {best_score:.2f}\")\n"
   ]
  },
  {
   "cell_type": "code",
   "execution_count": 501,
   "id": "89e2f964-5ecf-4b3c-8c92-ce9bf22e9c7c",
   "metadata": {},
   "outputs": [],
   "source": [
    "from sklearn.ensemble import RandomForestClassifier\n",
    "from sklearn.model_selection import GridSearchCV\n",
    "from sklearn.metrics import accuracy_score, f1_score"
   ]
  },
  {
   "cell_type": "code",
   "execution_count": 502,
   "id": "fa65753f-28ff-4ebd-bf94-6b3d5f948a64",
   "metadata": {},
   "outputs": [
    {
     "name": "stdout",
     "output_type": "stream",
     "text": [
      "Fitting 5 folds for each of 108 candidates, totalling 540 fits\n",
      "Best Hyperparameters:\n",
      "{'max_depth': None, 'min_samples_leaf': 1, 'min_samples_split': 2, 'n_estimators': 100}\n",
      "\n",
      " Final Test Accuracy: 1.0000\n",
      "Final Test F1 Score: 1.0000\n"
     ]
    }
   ],
   "source": [
    "\n",
    "model = RandomForestClassifier(random_state=42)\n",
    "\n",
    "param_grid = {\n",
    "    'n_estimators': [100, 200, 300],\n",
    "    'max_depth': [None, 10, 20, 30],\n",
    "    'min_samples_split': [2, 5, 10],\n",
    "    'min_samples_leaf': [1, 2, 4]\n",
    "}\n",
    "\n",
    "grid_search = GridSearchCV(estimator=model, param_grid=param_grid,scoring='f1_weighted', cv=5, n_jobs=-1, verbose=2)\n",
    "\n",
    "\n",
    "grid_search.fit(X_train, y_train)\n",
    "best_model = grid_search.best_estimator_\n",
    "best_params = grid_search.best_params_\n",
    "\n",
    "\n",
    "y_pred = best_model.predict(X_test)\n",
    "accuracy = accuracy_score(y_test, y_pred)\n",
    "f1 = f1_score(y_test, y_pred, average='weighted')\n",
    "\n",
    "print(\"Best Hyperparameters:\")\n",
    "print(best_params)\n",
    "\n",
    "print(f\"\\n Final Test Accuracy: {accuracy:.4f}\")\n",
    "print(f\"Final Test F1 Score: {f1:.4f}\")\n"
   ]
  },
  {
   "cell_type": "code",
   "execution_count": 503,
   "id": "521b7d17-b050-4f6b-af5a-82eba2e7ab4b",
   "metadata": {},
   "outputs": [],
   "source": [
    "import pandas as pd\n",
    "from sklearn.model_selection import train_test_split, GridSearchCV\n",
    "from sklearn.ensemble import RandomForestRegressor\n",
    "from sklearn.metrics import mean_squared_error\n",
    "import gradio as gr"
   ]
  },
  {
   "cell_type": "code",
   "execution_count": 506,
   "id": "0ad2fb06-56c7-404e-8193-bab0a6d83426",
   "metadata": {},
   "outputs": [
    {
     "name": "stdout",
     "output_type": "stream",
     "text": [
      "Best Parameters: {'max_depth': None, 'min_samples_leaf': 1, 'min_samples_split': 2, 'n_estimators': 100}\n",
      "Best Random Forest RMSE: 0.0\n",
      "* Running on local URL:  http://127.0.0.1:7870\n",
      "* To create a public link, set `share=True` in `launch()`.\n"
     ]
    },
    {
     "data": {
      "text/html": [
       "<div><iframe src=\"http://127.0.0.1:7870/\" width=\"100%\" height=\"500\" allow=\"autoplay; camera; microphone; clipboard-read; clipboard-write;\" frameborder=\"0\" allowfullscreen></iframe></div>"
      ],
      "text/plain": [
       "<IPython.core.display.HTML object>"
      ]
     },
     "metadata": {},
     "output_type": "display_data"
    },
    {
     "data": {
      "text/plain": []
     },
     "execution_count": 506,
     "metadata": {},
     "output_type": "execute_result"
    }
   ],
   "source": [
    "X = df1[['Review', 'Rating', 'Discount']] \n",
    "y = df1['Prices']                        \n",
    "\n",
    "X_train, X_test, y_train, y_test = train_test_split(X, y, test_size=0.2, random_state=42)\n",
    "\n",
    "\n",
    "rf = RandomForestRegressor(random_state=42)\n",
    "\n",
    "\n",
    "param_grid = {\n",
    "    'n_estimators': [100, 200],\n",
    "    'max_depth': [None, 10, 20],\n",
    "    'min_samples_split': [2, 5],\n",
    "    'min_samples_leaf': [1, 2]\n",
    "}\n",
    "\n",
    "grid_search = GridSearchCV(estimator=rf, param_grid=param_grid,cv=3, scoring='neg_mean_squared_error', n_jobs=-1)\n",
    "grid_search.fit(X_train, y_train)\n",
    "\n",
    "best_model = grid_search.best_estimator_\n",
    "print(\"Best Parameters:\", grid_search.best_params_)\n",
    "\n",
    "y_pred = best_model.predict(X_test)\n",
    "rmse = mean_squared_error(y_test, y_pred, squared=False)\n",
    "print(\"Best Random Forest RMSE:\", rmse)\n",
    "\n",
    "\n",
    "def predict_price(review, rating, discount):\n",
    "    try:\n",
    "        if isinstance(discount, str):\n",
    "            discount = float(discount.replace('%', '').strip())\n",
    "    except:\n",
    "        return \"Invalid discount format\"\n",
    "    input_df = pd.DataFrame([[review, rating, discount]],\n",
    "                            columns=['Review', 'Rating', 'Discount'])\n",
    "    predicted_price = best_model.predict(input_df)[0]\n",
    "    return round(predicted_price, 2)\n",
    "\n",
    "\n",
    "iface = gr.Interface(\n",
    "    fn=predict_price,\n",
    "    inputs=[\n",
    "        gr.Number(label=\"Review\"),\n",
    "        gr.Number(label=\"Rating\"),\n",
    "        gr.Textbox(label=\"Discount (e.g., 50%)\")\n",
    "    ],\n",
    "    outputs=gr.Number(label=\"Predicted Price\"),\n",
    "    title=\"Earphones Price Prediction (Best Random Forest)\",\n",
    "    description=\"Enter Review, Rating, and Discount to predict the product Price.\"\n",
    ")\n",
    "iface.launch()"
   ]
  },
  {
   "cell_type": "code",
   "execution_count": null,
   "id": "7cbc263f-a051-44d8-ae18-7b7e15bbc6f2",
   "metadata": {},
   "outputs": [],
   "source": []
  }
 ],
 "metadata": {
  "kernelspec": {
   "display_name": "Python [conda env:base] *",
   "language": "python",
   "name": "conda-base-py"
  },
  "language_info": {
   "codemirror_mode": {
    "name": "ipython",
    "version": 3
   },
   "file_extension": ".py",
   "mimetype": "text/x-python",
   "name": "python",
   "nbconvert_exporter": "python",
   "pygments_lexer": "ipython3",
   "version": "3.12.7"
  }
 },
 "nbformat": 4,
 "nbformat_minor": 5
}
